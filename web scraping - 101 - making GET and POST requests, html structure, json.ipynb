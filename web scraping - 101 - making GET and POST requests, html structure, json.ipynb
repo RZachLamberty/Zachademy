{
 "cells": [
  {
   "cell_type": "markdown",
   "metadata": {
    "collapsed": true
   },
   "source": [
    "# Scrape Naysh Y'All\n",
    "\n",
    "Goal: by the end of this tutorial, you should have all the tools and skills you need to do some \"simple\" web scraping (i.e. static `GET` and `POST` requests only)"
   ]
  },
  {
   "cell_type": "markdown",
   "metadata": {},
   "source": [
    "# Basic web-scraping concepts\n",
    "\n",
    "This is by no means an exhaustive summary. there are 7.2 bajillion articles about web scraping and they're probably all better. [Especially the Mozilla ones](https://developer.mozilla.org/en-US/). Also, people always freak out about how bad the W3 pages are (and they are), but they're still (in my opinion) a good beginner's resource. So dont' be afraid to try them out, but be aware that there are some problems.\n",
    "\n",
    "The only thing that is special about this one is that I wrote it and you've been duped into reading it.\n",
    "\n",
    "So enjoy!"
   ]
  },
  {
   "cell_type": "markdown",
   "metadata": {},
   "source": [
    "## requests\n",
    "\n",
    "The basic problem here is that some one out there in the ol' interwebs has put up a pretty page with some data we want, and we need to go get it. The primary action we will be executing is called a `request`. We are trying to make our computer yell at their computer and send us that thing we like. So we need to figure out how to yell in a way that makes their computer happy.\n",
    "\n",
    "Our computers all yell at eachother in a language called HTTP -- you have perhaps heard of it.\n",
    "\n",
    "[There are a ton of details about how to yell](https://developer.mozilla.org/en-US/docs/Web/HTTP), what's appropriate and what isn't, etc. But for our purpose, we basically only care about [`requests`](https://developer.mozilla.org/en-US/docs/Web/HTTP/Methods). There are several different types of yells:\n",
    "\n",
    "+ `GET` -- you want to get a thing and they should give it to you\n",
    "+ `POST` -- you want to send them a thing and they should at least write you a thank you card; if they want to give you something back that's cool but it's not expected (but it's polite, so, that's basically the same as expectation, but with all sorts of passive aggressiveness tacked on)\n",
    "+ `HEAD` -- you want to get a thing but you would prefer it if they just told you about the thing first, like sent you a picture of it or told you how big it was. You may still want to get it at some point but you're just testing the water\n",
    "+ `PUT` -- a really pushy `POST` request, basically they tell us they have a cool painting and we say OUR PAINTING HERE IS BETTER EFF YOURS\n",
    "+ `DELETE` -- actually that painting sucked, our bad\n",
    "+ `CONNECT`, `OPTIONS`, `TRACE`, `PATCH` -- stuff your parents yell to their friends but no one really does any more outside of really formal settings\n",
    "\n",
    "Of these, you basically only need `GET` and `POST`. Like, I had to use a `PUT` once and it was really annoying."
   ]
  },
  {
   "cell_type": "markdown",
   "metadata": {},
   "source": [
    "## data\n",
    "\n",
    "So, suppose you got your computer to yell at their computer and everyone's into it. You say HEY CAN A FELLA `GET` OR WHAT and the other computer said\n",
    "\n",
    "01011001 01100101 11101010 01011100 01001010 00001001 01101101 10111001 \n",
    "00011010 00011010 00101100 00000101 01111111 10110000 01001001 10100111 \n",
    "01010011 01101000 10010010 11110101 00011001 00001000 10100011 01000010 \n",
    "11000111 00110011 00111110 00001000 11110010 10010101 00100101 01101101 \n",
    "10010100 10011011 10111001 01100011 01110101 01111110 00100011 01010111 \n",
    "10101111 10000111 10000101 01100101 00000000 11111110 10110011 11011110 \n",
    "01011110 00100101 01011001 11101110 01101100 01000001 01010000 01101101 \n",
    "01010011 11100010 01111010 10101101 11100011 00000001 01011010 01001010 \n",
    "01000110 01011000 01011110 00000010 00110111 11111101 11001101 00000001 \n",
    "11001101 01111001 10111001 10001010 11100010 11011011 01010100 10101101 \n",
    "11101000 00000011 11110010 00001101 10100001 00101110 11000010 00110010 \n",
    "01001000 11010001 10111000 11101011 01111000 00000100 10000110 10101010 \n",
    "00110001 01111110 00101011 01110010 \n",
    "\n",
    "not cool"
   ]
  },
  {
   "cell_type": "markdown",
   "metadata": {},
   "source": [
    "### `html`\n",
    "\n",
    "okay so a little cool, it looks like they speak [HyperText Markup Language](https://developer.mozilla.org/en-US/docs/Web/HTML). So at least they're trying. It's a special amalgam of xml-like tag structures that is the backbone of pretty much every single webpage.\n",
    "\n",
    "check out [this example page with simple `html`](http://www.columbia.edu/~fdc/sample.html). Specifically, right click and go to \"view source.\" You can do that on any webpage.\n",
    "\n",
    "Of course, you usually will have more luck using the \"developers tools\" than just viewing source -- in google chrome, try right click > \"Inspect\""
   ]
  },
  {
   "cell_type": "markdown",
   "metadata": {},
   "source": [
    "#### `xpath`\n",
    "\n",
    "[`xpath`](https://msdn.microsoft.com/en-us/library/ms256086(v=vs.110%29.aspx) is a query language for `xml` documents. Given that `html` is effectively a refined subset of `xml`, it's a natural fit for parsing `html` documents. It's a bit more time-tested and battle-worn than `css`, though not really as popular and (in my opinion) not as easy to learn. It's kind of the `C` or `C++` to `css`'s `python`.\n",
    "\n",
    "that being said, it's by far my favorite of the two, and almost always my go-to. Just because I learned it first... and the edge cases are not as strange as the `css` edge cases, in my opinion. That being said, I'd probably recommend *learning* `css` selecting instead.\n",
    "\n",
    "The best way to think of it, in my opinion, is like selecting files on a file system -- you know that somewhere several levels deep inside your root directory there is a folder called `important_files` and that it has a file in it where the extension is `.doc`. You could look for it (using wildcards in the linux world) by typing:\n",
    "\n",
    "```bash\n",
    "find . -name important_files/*.doc\n",
    "```\n",
    "\n",
    "you know that somewhere there's an element that is a child of something and has a property.\n",
    "\n",
    "`xpath` is similar -- you know things about the hierarchy of a document (it's a list item `ul`) and the attributes (it is in the class `zachs_list`), and the `xpath` translation is\n",
    "\n",
    "```html\n",
    "<div>\n",
    "    <ul class=\"zachs_list\">\n",
    "        <li>hello</li>\n",
    "        <li>world</li>\n",
    "    </ul>\n",
    "</div>\n",
    "```\n",
    "\n",
    "```xpath\n",
    ".//ul[@class=\"zachs_list\"]\n",
    "```"
   ]
  },
  {
   "cell_type": "markdown",
   "metadata": {},
   "source": [
    "#### `css`"
   ]
  },
  {
   "cell_type": "markdown",
   "metadata": {},
   "source": [
    "Cascading Style Sheets (*aka* [`css`](https://developer.mozilla.org/en-US/docs/Web/CSS)) is a language for describing how a browser should render `html` documents. they are not a pre-requisite for creating a webpage (styling can be done directly in `html` docs), but websites that don't utilize this language (or some more advanced variant) are few and far between.\n",
    "\n",
    "If you want an example of `css`, you can again refer to the \"Inspect\" screen / \"developers tools.\" \n",
    "\n",
    "+ The entire right panel is dedicated to `css` and `javascript` properties of the highlighted `html` document elements.\n",
    "+ the `Sources` tab of the Inspect window has a lot of files, but all the delivered `css` files are there\n",
    "+ check out the `css` file for [the Elder Research landing page](http://www.elderresearch.com/): [source is here](http://www.elderresearch.com/hs-fs/hub/2176909/hub_generated/template_assets/1491831211917/custom/page/css/vast-style.min.css), but that's not that useful, is it?  \n",
    "\n",
    "So basically, there is a well-established language for telling browsers how to style \"things like this\" -- we can just use the existence of this language and statements such as those to take an `html` document and grab the same sorts of things.\n",
    "\n",
    "```css\n",
    "ul.zachs_list\n",
    "```"
   ]
  },
  {
   "cell_type": "markdown",
   "metadata": {},
   "source": [
    "### `json`\n",
    "\n",
    "`html` isn't the only way that computers yell at each other, though. There are other languages they yell in, and one of the most common is [JavaScript Object Notation](http://json.org/), or `json` for short.\n",
    "\n",
    "If you're familiar with `python` default data types, `json` can be converted directly to lists, dictionaries, numbers, and strings. My personal favorite example is [the Magic the Gathering `json` webpage](https://mtgjson.com/) ([direct link to example](https://mtgjson.com/json/KLD.json)), but [there are a ton out there](https://github.com/toddmotto/public-apis).\n",
    "\n",
    "There are a million web tutorials out there. Use any of them. They're all better than this.\n",
    "\n",
    "`json` is everywhere. it [has it's detractors](https://codepunk.io/xml-vs-json-why-json-sucks/), but it is essentially the *de facto* data and information transfer protocol on the web."
   ]
  },
  {
   "cell_type": "markdown",
   "metadata": {},
   "source": [
    "### javascript\n",
    "\n",
    "A quick note related to `json` -- as I wrote above, `json` is the JavaScript Object Notation. The reason it's so ubiquitous is that [`javascript`](https://developer.mozilla.org/en-US/docs/Web/JavaScript) is ubiquitous. Javascript is a programming language which has a ton of bugs and features resulting from it's use case as the primary web language for client-side (aka heavy lifting is done by you (via your browser) rather than the server sending you information) computation.\n",
    "\n",
    "Some people treat `javascript` as if it's not a chaos land of abominations and for the most part we all let them go on thinking those things, because they make us really pretty and fast webpages. Sometimes [everyone realizes that the whole enterprise is castles built on sand](https://qz.com/646467/how-one-programmer-broke-the-internet-by-deleting-a-tiny-piece-of-code/) and the super l33t trolls of the internet have a chuckle or two.\n",
    "\n",
    "The main reason I bring it up is this: sometimes the only way to access the data you want is via `javascript`. In about 90% of all cases, I find this is something you can avoid with some digging. Why avoid it? because it requires breaking out of the simple `requests` paradigm and using a full-fledged `javascript` engine, and that's a big jump in complexity.\n",
    "\n",
    "**Whenever possible, I try and just `GET` things.**"
   ]
  },
  {
   "cell_type": "markdown",
   "metadata": {},
   "source": [
    "# setup"
   ]
  },
  {
   "cell_type": "markdown",
   "metadata": {},
   "source": [
    "## command line tools\n",
    "\n",
    "In the unix world, there are two primary utilities for web scraping:\n",
    "\n",
    "+ `curl`\n",
    "+ `wget`\n",
    "\n",
    "Usually I default to `curl` for absolutely no reason.\n",
    "\n",
    "### linux\n",
    "\n",
    "```bash\n",
    "sudo apt-get install curl wget\n",
    "```\n",
    "\n",
    "### mac\n",
    "\n",
    "```bash\n",
    "brew install curl wget\n",
    "```\n",
    "\n",
    "### windows\n",
    "\n",
    "https://curl.haxx.se/download.html\n",
    "\n",
    "god help you."
   ]
  },
  {
   "cell_type": "markdown",
   "metadata": {},
   "source": [
    "## `python`\n",
    "\n",
    "First of all, you should have done most of the steps in `basic python - 001 - installing the basic data science toolkit`. If you haven't done that yet, go check out that mini-course.\n",
    "\n",
    "I'm going to assume that you have a working installation of `conda` or `miniconda`. Let's create a new environment and install the most basic items for our first web scraping tests.\n",
    "\n",
    "```bash\n",
    "> conda create -n scrapesville python=3\n",
    "> source activate scrapesville\n",
    "> conda install requests lxml cssslect\n",
    "```\n",
    "\n",
    "that's it! we should be good to go"
   ]
  },
  {
   "cell_type": "markdown",
   "metadata": {},
   "source": [
    "# simple example"
   ]
  },
  {
   "cell_type": "markdown",
   "metadata": {},
   "source": [
    "Let's do some scraping!"
   ]
  },
  {
   "cell_type": "markdown",
   "metadata": {},
   "source": [
    "## `GET` request\n",
    "\n",
    "as a reminder, a `GET` request is a request we send to a server to ask for some information, and the returned message is whatever content we asked for."
   ]
  },
  {
   "cell_type": "markdown",
   "metadata": {},
   "source": [
    "### `json` is almost too easy"
   ]
  },
  {
   "cell_type": "markdown",
   "metadata": {},
   "source": [
    "My go to `json` resource, as discussed above, is [mtgjson.com](https://mtgjson.com/). However, I can understand why maybe that's not the most useful resource for everyone. Let's work with the (debatably) more useful [wikipedia `json` api](https://www.mediawiki.org/wiki/API:Main_page)\n",
    "\n",
    "https://en.wikipedia.org/w/api.php?action=query&titles=Leet&prop=revisions&rvprop=content&format=json\n",
    "\n",
    "Let's break the url from this request down into pieces\n",
    "\n",
    "+ `https://en.wikipedia.org/w/api.php` - the endpoint (this is a common term used for an api (application programming interface) url that provides us with some resource). One way of thinking of this is that it is the \"function\" name for this particular very generic function \n",
    "+ `?` - a common delimiter (most common?) indicating that what follows is a list of key-value pairs of parameters. This is like the open-parentheses of a function declaration\n",
    "+ `foo=bar` - the \"key = value\" parameter list. the allowed keys are defined by the api endpoint, and a really good api will [tell you what the possibilities are](https://en.wikipedia.org/w/api.php) (but most won't).\n",
    "+ `&` - the delimiter separating key-value pairs, like commas in an `R` or `python` function\n",
    "\n",
    "altogether this makes for a an easier reading of the above url:\n",
    "\n",
    "+ to to the primary wikipedia api endpoint, and\n",
    "+ take the `action` of [`query`](https://en.wikipedia.org/w/api.php?action=help&modules=query)\n",
    "+ look for documents with `titles` of `Leet`\n",
    "+ look for the `prop`(erty) [`revisions`](https://en.wikipedia.org/w/api.php?action=help&modules=query%2Brevisions)\n",
    "+ for each revision, get the property (aka the `rvprop`) `content`\n",
    "+ return it to us with the `format` `json` (other options are `jsonfm` and `xml` -- in your browser, try changing that value in the url!\n",
    "\n",
    "Let's do it with `python`!"
   ]
  },
  {
   "cell_type": "code",
   "execution_count": null,
   "metadata": {
    "ExecuteTime": {
     "end_time": "2017-05-29T19:46:28.554830Z",
     "start_time": "2017-05-29T19:46:28.551277Z"
    }
   },
   "outputs": [],
   "source": [
    "import requests"
   ]
  },
  {
   "cell_type": "code",
   "execution_count": null,
   "metadata": {
    "ExecuteTime": {
     "end_time": "2017-05-29T19:46:28.865523Z",
     "start_time": "2017-05-29T19:46:28.859585Z"
    }
   },
   "outputs": [],
   "source": [
    "requests.get?"
   ]
  },
  {
   "cell_type": "code",
   "execution_count": null,
   "metadata": {
    "ExecuteTime": {
     "end_time": "2017-05-29T19:57:42.970066Z",
     "start_time": "2017-05-29T19:57:42.962608Z"
    }
   },
   "outputs": [],
   "source": [
    "def my_request(title='Leet'):\n",
    "    return requests.get(\n",
    "        url='https://en.wikipedia.org/w/api.php',\n",
    "        params={\n",
    "            'action': 'query',\n",
    "            'titles': title,\n",
    "            'prop': 'revisions',\n",
    "            'rvprop': 'content',\n",
    "            'format': 'json'\n",
    "        }\n",
    "    )"
   ]
  },
  {
   "cell_type": "code",
   "execution_count": null,
   "metadata": {
    "ExecuteTime": {
     "end_time": "2017-05-29T19:57:57.275483Z",
     "start_time": "2017-05-29T19:57:56.981163Z"
    }
   },
   "outputs": [],
   "source": [
    "response = my_request(title='ham')\n",
    "response.json()"
   ]
  },
  {
   "cell_type": "markdown",
   "metadata": {},
   "source": [
    "We can check which [status code](https://developer.mozilla.org/en-US/docs/Web/HTTP/Status) the server returned us. These are standardized codes that summarize the response we get from the server (e.g. \"this was easy\", \"wtf are you talking about?!\")\n",
    "\n",
    "This is useful information for more automated process, but also sometimes helps us understand what went wrong. For the most part, we like 200s and we hate 400s and 500s. The others, supposedly, exist."
   ]
  },
  {
   "cell_type": "code",
   "execution_count": null,
   "metadata": {
    "ExecuteTime": {
     "end_time": "2017-05-28T20:58:36.635583Z",
     "start_time": "2017-05-28T20:58:36.630604Z"
    }
   },
   "outputs": [],
   "source": [
    "response.status_code"
   ]
  },
  {
   "cell_type": "markdown",
   "metadata": {},
   "source": [
    "awesome. Now what about the content?"
   ]
  },
  {
   "cell_type": "code",
   "execution_count": null,
   "metadata": {
    "ExecuteTime": {
     "end_time": "2017-05-29T19:50:04.093796Z",
     "start_time": "2017-05-29T19:50:04.086461Z"
    }
   },
   "outputs": [],
   "source": [
    "j = response.json()\n",
    "j"
   ]
  },
  {
   "cell_type": "code",
   "execution_count": null,
   "metadata": {
    "ExecuteTime": {
     "end_time": "2017-05-29T19:50:56.966925Z",
     "start_time": "2017-05-29T19:50:56.959787Z"
    }
   },
   "outputs": [],
   "source": [
    "j['query']['pages']['18562']['revisions'][0]['*']"
   ]
  },
  {
   "cell_type": "markdown",
   "metadata": {},
   "source": [
    "not too bad!"
   ]
  },
  {
   "cell_type": "markdown",
   "metadata": {},
   "source": [
    "### a quick diversion: installing selector gadget\n",
    "\n",
    "Not hard to explain -- go find the browser extension [selector gadget](http://selectorgadget.com/) and install it.\n",
    "\n",
    "So let's suppose now that we found a webpage we want to scrape, but they haven't built an awesome `json` api for us to use. Let's use [the list of the most downloaded `python` packages](http://pypi-ranking.info/alltime), and let's try and get the package name and the numbers from this list.\n",
    "\n",
    "Quick demo of selector gadget!"
   ]
  },
  {
   "cell_type": "markdown",
   "metadata": {},
   "source": [
    "### `xpath` selection"
   ]
  },
  {
   "cell_type": "markdown",
   "metadata": {},
   "source": [
    "let's just dive right in and discuss things as we go through the example"
   ]
  },
  {
   "cell_type": "code",
   "execution_count": null,
   "metadata": {
    "ExecuteTime": {
     "end_time": "2017-05-29T20:08:47.928238Z",
     "start_time": "2017-05-29T20:08:47.899689Z"
    }
   },
   "outputs": [],
   "source": [
    "import lxml.html\n",
    "import requests"
   ]
  },
  {
   "cell_type": "code",
   "execution_count": null,
   "metadata": {
    "ExecuteTime": {
     "end_time": "2017-05-29T20:08:48.636707Z",
     "start_time": "2017-05-29T20:08:48.058919Z"
    }
   },
   "outputs": [],
   "source": [
    "response = requests.get(url='http://pypi-ranking.info/alltime')\n",
    "response.status_code"
   ]
  },
  {
   "cell_type": "code",
   "execution_count": null,
   "metadata": {
    "ExecuteTime": {
     "end_time": "2017-05-29T20:08:48.648337Z",
     "start_time": "2017-05-29T20:08:48.639302Z"
    }
   },
   "outputs": [],
   "source": [
    "print(response.text)"
   ]
  },
  {
   "cell_type": "markdown",
   "metadata": {},
   "source": [
    "first, we need to create an `lxml` `html` object out of the request response"
   ]
  },
  {
   "cell_type": "code",
   "execution_count": null,
   "metadata": {
    "ExecuteTime": {
     "end_time": "2017-05-29T20:08:49.164770Z",
     "start_time": "2017-05-29T20:08:49.155322Z"
    }
   },
   "outputs": [],
   "source": [
    "root = lxml.html.fromstring(response.text)\n",
    "root"
   ]
  },
  {
   "cell_type": "code",
   "execution_count": null,
   "metadata": {
    "ExecuteTime": {
     "end_time": "2017-05-29T20:09:19.186413Z",
     "start_time": "2017-05-29T20:09:19.179952Z"
    }
   },
   "outputs": [],
   "source": [
    "root.getchildren()"
   ]
  },
  {
   "cell_type": "markdown",
   "metadata": {},
   "source": [
    "let's look up the elements by hard-coding the path:"
   ]
  },
  {
   "cell_type": "code",
   "execution_count": null,
   "metadata": {
    "ExecuteTime": {
     "end_time": "2017-05-29T20:10:31.310437Z",
     "start_time": "2017-05-29T20:10:31.303160Z"
    }
   },
   "outputs": [],
   "source": [
    "root.xpath('body')"
   ]
  },
  {
   "cell_type": "code",
   "execution_count": null,
   "metadata": {
    "ExecuteTime": {
     "end_time": "2017-05-29T20:10:37.561101Z",
     "start_time": "2017-05-29T20:10:37.553486Z"
    }
   },
   "outputs": [],
   "source": [
    "root.xpath('body/div/div/table/tbody/tr/td/a/span')"
   ]
  },
  {
   "cell_type": "markdown",
   "metadata": {},
   "source": [
    "what??\n",
    "\n",
    "it turns out that browsers add the `tbody` element in there -- it's not in the code. Why is still mostly a mystery to me, and [I'm comforted by the fact that I'm not alone](https://stackoverflow.com/questions/27918086/why-tbody-will-be-added-automatically-by-browser)."
   ]
  },
  {
   "cell_type": "code",
   "execution_count": null,
   "metadata": {
    "ExecuteTime": {
     "end_time": "2017-05-29T20:11:10.011739Z",
     "start_time": "2017-05-29T20:11:10.002856Z"
    }
   },
   "outputs": [],
   "source": [
    "root.xpath('body/div/div/table/tr/td/a/span')"
   ]
  },
  {
   "cell_type": "markdown",
   "metadata": {},
   "source": [
    "SO USEFUL RIGHT? Let's look at one of those items above"
   ]
  },
  {
   "cell_type": "code",
   "execution_count": null,
   "metadata": {
    "ExecuteTime": {
     "end_time": "2017-05-29T20:11:44.061211Z",
     "start_time": "2017-05-29T20:11:44.052941Z"
    }
   },
   "outputs": [],
   "source": [
    "packageElems = root.xpath('body/div/div/table/tr/td/a/span')\n",
    "print('we have {} elements'.format(len(packageElems)))\n",
    "\n",
    "elem0 = packageElems[0]\n",
    "print(lxml.html.tostring(elem0))"
   ]
  },
  {
   "cell_type": "code",
   "execution_count": null,
   "metadata": {
    "ExecuteTime": {
     "end_time": "2017-05-29T20:12:30.762546Z",
     "start_time": "2017-05-29T20:12:30.757188Z"
    }
   },
   "outputs": [],
   "source": [
    "elem0.attrib"
   ]
  },
  {
   "cell_type": "code",
   "execution_count": null,
   "metadata": {
    "ExecuteTime": {
     "end_time": "2017-05-28T21:55:39.828425Z",
     "start_time": "2017-05-28T21:55:39.821335Z"
    }
   },
   "outputs": [],
   "source": [
    "elem0.text"
   ]
  },
  {
   "cell_type": "markdown",
   "metadata": {},
   "source": [
    "so we can get all of the package names:"
   ]
  },
  {
   "cell_type": "code",
   "execution_count": null,
   "metadata": {
    "ExecuteTime": {
     "end_time": "2017-05-29T20:13:31.615896Z",
     "start_time": "2017-05-29T20:13:31.611198Z"
    }
   },
   "outputs": [],
   "source": [
    "packages = []\n",
    "for elem in packageElems:\n",
    "    packages.append(elem.text)"
   ]
  },
  {
   "cell_type": "code",
   "execution_count": null,
   "metadata": {
    "ExecuteTime": {
     "end_time": "2017-05-29T20:13:32.253412Z",
     "start_time": "2017-05-29T20:13:32.245497Z"
    }
   },
   "outputs": [],
   "source": [
    "packages = [elem.text for elem in packageElems]\n",
    "packages[:5]"
   ]
  },
  {
   "cell_type": "markdown",
   "metadata": {},
   "source": [
    "But that path -- it was pretty ugly, right? Is there a better way?\n",
    "\n",
    "Well, it turns out that the elements we were looking for have a specific property:\n",
    "\n",
    "```html\n",
    "<span class=\"list_title\">simplejson</span>\n",
    "```\n",
    "\n",
    "we could just pull all the spans which have that class, instead"
   ]
  },
  {
   "cell_type": "code",
   "execution_count": null,
   "metadata": {
    "ExecuteTime": {
     "end_time": "2017-05-28T21:58:58.068978Z",
     "start_time": "2017-05-28T21:58:58.060192Z"
    }
   },
   "outputs": [],
   "source": [
    "packageElems = root.xpath('.//span[@class=\"list_title\"]')\n",
    "packages = [elem.text for elem in packageElems]\n",
    "packages[:5]"
   ]
  },
  {
   "cell_type": "markdown",
   "metadata": {},
   "source": [
    "not bad!\n",
    "\n",
    "and now for the number of downloads... Unforunately, the actual element we wish to pull doesn't have any special attributes -- but its parent (`td` element) does"
   ]
  },
  {
   "cell_type": "code",
   "execution_count": null,
   "metadata": {
    "ExecuteTime": {
     "end_time": "2017-05-28T22:00:29.521328Z",
     "start_time": "2017-05-28T22:00:29.514293Z"
    }
   },
   "outputs": [],
   "source": [
    "dlElems = root.xpath('.//td[@class=\"count\"]/span')\n",
    "elem0 = dlElems[0]\n",
    "elem0"
   ]
  },
  {
   "cell_type": "code",
   "execution_count": null,
   "metadata": {
    "ExecuteTime": {
     "end_time": "2017-05-28T22:00:33.258378Z",
     "start_time": "2017-05-28T22:00:33.252770Z"
    }
   },
   "outputs": [],
   "source": [
    "elem0.text"
   ]
  },
  {
   "cell_type": "code",
   "execution_count": null,
   "metadata": {
    "ExecuteTime": {
     "end_time": "2017-05-28T22:00:41.080453Z",
     "start_time": "2017-05-28T22:00:41.070761Z"
    }
   },
   "outputs": [],
   "source": [
    "int(elem0.text)"
   ]
  },
  {
   "cell_type": "code",
   "execution_count": null,
   "metadata": {
    "ExecuteTime": {
     "end_time": "2017-05-28T22:00:54.778164Z",
     "start_time": "2017-05-28T22:00:54.772335Z"
    }
   },
   "outputs": [],
   "source": [
    "int(elem0.text.replace(',', ''))"
   ]
  },
  {
   "cell_type": "code",
   "execution_count": null,
   "metadata": {
    "ExecuteTime": {
     "end_time": "2017-05-28T22:01:16.324977Z",
     "start_time": "2017-05-28T22:01:16.318387Z"
    }
   },
   "outputs": [],
   "source": [
    "dlElems = root.xpath('.//td[@class=\"count\"]/span')\n",
    "dlnums = [int(elem.text.replace(',', '')) for elem in dlElems]\n",
    "dlnums[:5]"
   ]
  },
  {
   "cell_type": "code",
   "execution_count": null,
   "metadata": {
    "ExecuteTime": {
     "end_time": "2017-05-29T20:22:51.621607Z",
     "start_time": "2017-05-29T20:22:51.614392Z"
    }
   },
   "outputs": [],
   "source": [
    "l1 = ['a', 'b', 'c']\n",
    "l2 = [1, 2, 3]\n",
    "\n",
    "dict(zip(l1, l2))"
   ]
  },
  {
   "cell_type": "code",
   "execution_count": null,
   "metadata": {
    "ExecuteTime": {
     "end_time": "2017-05-28T22:01:41.368361Z",
     "start_time": "2017-05-28T22:01:41.361452Z"
    }
   },
   "outputs": [],
   "source": [
    "list(zip(packages, dlnums))[:5]"
   ]
  },
  {
   "cell_type": "code",
   "execution_count": null,
   "metadata": {
    "ExecuteTime": {
     "end_time": "2017-05-28T22:01:53.722000Z",
     "start_time": "2017-05-28T22:01:53.715158Z"
    }
   },
   "outputs": [],
   "source": [
    "d = dict(zip(packages, dlnums))\n",
    "d"
   ]
  },
  {
   "cell_type": "code",
   "execution_count": null,
   "metadata": {
    "ExecuteTime": {
     "end_time": "2017-05-29T20:27:42.387335Z",
     "start_time": "2017-05-29T20:27:42.373365Z"
    }
   },
   "outputs": [],
   "source": [
    "table = root.find('.//table[@id=\"main_list\"]')\n",
    "x = []\n",
    "for row in table.xpath('./tr'):\n",
    "    packagename = row.find('.//span[@class=\"list_title\"]').text\n",
    "    dlct = row.find('./td[@class=\"count\"]/span').text\n",
    "    dlct = int(dlct.replace(',', ''))\n",
    "    x.append({'name': packagename, 'dlct': dlct})"
   ]
  },
  {
   "cell_type": "code",
   "execution_count": null,
   "metadata": {
    "ExecuteTime": {
     "end_time": "2017-05-29T20:27:45.013115Z",
     "start_time": "2017-05-29T20:27:44.999689Z"
    }
   },
   "outputs": [],
   "source": [
    "x"
   ]
  },
  {
   "cell_type": "markdown",
   "metadata": {},
   "source": [
    "### `css` selection\n",
    "\n",
    "as you saw above, we were generally referring to the class or `id` elements of `html` tag elements -- well, that's almost identical to what is done in `css`. Let's use selector gadget to select elements using `css` selectors.\n",
    "\n",
    "Note: we will reuse the `lxml.html` object from before"
   ]
  },
  {
   "cell_type": "code",
   "execution_count": null,
   "metadata": {
    "ExecuteTime": {
     "end_time": "2017-05-29T20:29:01.666896Z",
     "start_time": "2017-05-29T20:29:01.644927Z"
    }
   },
   "outputs": [],
   "source": [
    "packageElems = root.cssselect('.list_title')\n",
    "packages = [elem.text for elem in packageElems]\n",
    "packages[:5]"
   ]
  },
  {
   "cell_type": "code",
   "execution_count": null,
   "metadata": {
    "ExecuteTime": {
     "end_time": "2017-05-29T20:29:02.281904Z",
     "start_time": "2017-05-29T20:29:02.272074Z"
    }
   },
   "outputs": [],
   "source": [
    "dlElems = root.cssselect('.count span')\n",
    "dlnums = [int(elem.text.replace(',', '')) for elem in dlElems]\n",
    "dlnums[:5]"
   ]
  },
  {
   "cell_type": "code",
   "execution_count": null,
   "metadata": {
    "ExecuteTime": {
     "end_time": "2017-05-29T20:29:03.298670Z",
     "start_time": "2017-05-29T20:29:03.291501Z"
    }
   },
   "outputs": [],
   "source": [
    "d = dict(zip(packages, dlnums))\n",
    "d"
   ]
  },
  {
   "cell_type": "markdown",
   "metadata": {},
   "source": [
    "# advanced example: `POST` form request"
   ]
  },
  {
   "cell_type": "markdown",
   "metadata": {},
   "source": [
    "The most common use case for `POST` requests is `html` forms. There are forms all over the internet, and many have a `method` of `POST`. If you're looking for an example of a `POST` request, check out the github gist submission api:\n",
    "\n",
    "https://developer.github.com/v3/gists/#create-a-gist"
   ]
  },
  {
   "cell_type": "markdown",
   "metadata": {},
   "source": [
    "# `javascript` engines and `selenium`\n",
    "\n",
    "sometimes a simple request is not enough. A good example is `cnn.com`, where one must scroll through the page to load new stories."
   ]
  },
  {
   "cell_type": "code",
   "execution_count": null,
   "metadata": {
    "ExecuteTime": {
     "end_time": "2017-05-29T20:45:01.825662Z",
     "start_time": "2017-05-29T20:45:01.737348Z"
    }
   },
   "outputs": [],
   "source": [
    "import requests\n",
    "\n",
    "resp = requests.post(\n",
    "    url='https://www.eversource.com/clp/outage/services/OutageData.asmx/AllOutageData', \n",
    "    headers={'content-type': 'application/json'}\n",
    ")\n",
    "\n",
    "resp.json()"
   ]
  },
  {
   "cell_type": "markdown",
   "metadata": {},
   "source": []
  },
  {
   "cell_type": "markdown",
   "metadata": {},
   "source": []
  },
  {
   "cell_type": "markdown",
   "metadata": {},
   "source": []
  },
  {
   "cell_type": "markdown",
   "metadata": {},
   "source": []
  },
  {
   "cell_type": "markdown",
   "metadata": {},
   "source": []
  },
  {
   "cell_type": "markdown",
   "metadata": {},
   "source": []
  },
  {
   "cell_type": "markdown",
   "metadata": {},
   "source": []
  }
 ],
 "metadata": {
  "kernelspec": {
   "display_name": "Python 3",
   "language": "python",
   "name": "python3"
  },
  "language_info": {
   "codemirror_mode": {
    "name": "ipython",
    "version": 3
   },
   "file_extension": ".py",
   "mimetype": "text/x-python",
   "name": "python",
   "nbconvert_exporter": "python",
   "pygments_lexer": "ipython3",
   "version": "3.6.5"
  },
  "toc": {
   "toc_cell": false,
   "toc_number_sections": true,
   "toc_threshold": 6,
   "toc_window_display": false
  }
 },
 "nbformat": 4,
 "nbformat_minor": 2
}
