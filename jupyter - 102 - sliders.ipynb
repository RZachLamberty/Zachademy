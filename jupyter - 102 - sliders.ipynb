{
 "cells": [
  {
   "cell_type": "markdown",
   "metadata": {},
   "source": [
    "# Sliders"
   ]
  },
  {
   "cell_type": "markdown",
   "metadata": {},
   "source": [
    "sliders and interactive things are righteous"
   ]
  },
  {
   "cell_type": "markdown",
   "metadata": {},
   "source": [
    "*note*: I had to install the latest version of ipywidgets from a separate conda chanel (the default is over one major behind, super weird...). To do so:\n",
    "\n",
    "```\n",
    "conda install -c conda-forge ipywidgets\n",
    "```\n",
    "\n",
    "This requires a notebook extension to boot:\n",
    "```\n",
    "jupyter nbextension enable --py --sys-prefix widgetsnbextension\n",
    "```"
   ]
  },
  {
   "cell_type": "code",
   "execution_count": 1,
   "metadata": {
    "ExecuteTime": {
     "end_time": "2016-07-15T13:00:37.848762",
     "start_time": "2016-07-15T13:00:37.839603"
    },
    "collapsed": true
   },
   "outputs": [],
   "source": [
    "import ipywidgets"
   ]
  },
  {
   "cell_type": "code",
   "execution_count": 2,
   "metadata": {
    "ExecuteTime": {
     "end_time": "2016-07-15T13:00:38.842503",
     "start_time": "2016-07-15T13:00:38.836259"
    },
    "collapsed": true
   },
   "outputs": [],
   "source": [
    "mydesc = '{label}: {start:} -> {stop:}'"
   ]
  },
  {
   "cell_type": "code",
   "execution_count": 3,
   "metadata": {
    "ExecuteTime": {
     "end_time": "2016-07-15T13:00:39.732188",
     "start_time": "2016-07-15T13:00:39.670844"
    },
    "collapsed": false
   },
   "outputs": [],
   "source": [
    "select_a = ipywidgets.SelectionSlider(\n",
    "    description=mydesc.format(label='a', start='1', stop='10'),\n",
    "    options=list(range(1, 10))\n",
    ")"
   ]
  },
  {
   "cell_type": "code",
   "execution_count": 4,
   "metadata": {
    "ExecuteTime": {
     "end_time": "2016-07-15T13:00:40.339711",
     "start_time": "2016-07-15T13:00:40.310145"
    },
    "collapsed": false
   },
   "outputs": [],
   "source": [
    "select_b = ipywidgets.SelectionSlider(\n",
    "    description=mydesc.format(label='b', start='0', stop=select_a.value),\n",
    "    options=list(range(select_a.value + 1))\n",
    ")\n",
    "\n",
    "def update_b_range(*args):\n",
    "    select_b.description = mydesc.format(label='b', start='0', stop=select_a.value)\n",
    "    select_b.options = list(range(select_a.value + 1))\n",
    "    \n",
    "select_a.observe(update_b_range, 'value')"
   ]
  },
  {
   "cell_type": "code",
   "execution_count": 5,
   "metadata": {
    "ExecuteTime": {
     "end_time": "2016-07-15T13:00:40.930070",
     "start_time": "2016-07-15T13:00:40.856271"
    },
    "collapsed": true
   },
   "outputs": [],
   "source": [
    "select_c = ipywidgets.SelectionSlider(\n",
    "    description=mydesc.format(label='c', start='0', stop=select_b.value),\n",
    "    options=list(range(select_b.value + 1))\n",
    ")\n",
    "\n",
    "def update_c_range(*args):\n",
    "    select_c.description = mydesc.format(label='c', start='0', stop=select_b.value)\n",
    "    select_c.options = list(range(select_b.value + 1))\n",
    "    \n",
    "select_b.observe(update_c_range, 'value')"
   ]
  },
  {
   "cell_type": "code",
   "execution_count": 6,
   "metadata": {
    "ExecuteTime": {
     "end_time": "2016-07-15T13:00:41.689085",
     "start_time": "2016-07-15T13:00:41.628926"
    },
    "collapsed": false
   },
   "outputs": [],
   "source": [
    "select_d = ipywidgets.SelectionSlider(\n",
    "    description=mydesc.format(label='d', start='0', stop=select_c.value),\n",
    "    options=list(range(select_c.value + 1))\n",
    ")\n",
    "\n",
    "def update_d_range(*args):\n",
    "    select_d.description = mydesc.format(label='d', start='0', stop=select_c.value)\n",
    "    select_d.options = list(range(select_c.value + 1))\n",
    "    \n",
    "select_c.observe(update_d_range, 'value')"
   ]
  },
  {
   "cell_type": "code",
   "execution_count": 7,
   "metadata": {
    "ExecuteTime": {
     "end_time": "2016-07-15T13:00:42.318560",
     "start_time": "2016-07-15T13:00:42.281368"
    },
    "collapsed": false
   },
   "outputs": [
    {
     "name": "stdout",
     "output_type": "stream",
     "text": [
      "a = 6; b = 2; c = 1; d = 0\n"
     ]
    }
   ],
   "source": [
    "def printem(a, b, c, d):\n",
    "    print('a = {}; b = {}; c = {}; d = {}'.format(a, b, c, d))\n",
    "    \n",
    "ipywidgets.interact(printem, a=select_a, b=select_b, c=select_c, d=select_d);"
   ]
  },
  {
   "cell_type": "code",
   "execution_count": null,
   "metadata": {
    "collapsed": true
   },
   "outputs": [],
   "source": []
  },
  {
   "cell_type": "code",
   "execution_count": null,
   "metadata": {
    "collapsed": true
   },
   "outputs": [],
   "source": []
  }
 ],
 "metadata": {
  "kernelspec": {
   "display_name": "Python 3",
   "language": "python",
   "name": "python3"
  },
  "language_info": {
   "codemirror_mode": {
    "name": "ipython",
    "version": 3
   },
   "file_extension": ".py",
   "mimetype": "text/x-python",
   "name": "python",
   "nbconvert_exporter": "python",
   "pygments_lexer": "ipython3",
   "version": "3.5.2"
  },
  "toc": {
   "toc_cell": false,
   "toc_number_sections": true,
   "toc_threshold": 6,
   "toc_window_display": false
  },
  "widgets": {
   "state": {
    "219d69f3ac6940f7817281bf11cf0a81": {
     "views": []
    },
    "2ceb0a20d716443985be9642c01b090f": {
     "views": []
    },
    "56abe7a0e7b141d4bacbeb311fe1f474": {
     "views": []
    },
    "95b7d07ad79f48be839db24c59bbf6f5": {
     "views": [
      {
       "cell_index": 9
      }
     ]
    },
    "990e9f674ee5441987c8d69e1d6dd779": {
     "views": []
    },
    "9b906830eff949e091873548049f182f": {
     "views": []
    },
    "9bb4bc2c59f14b838b230bc61a7b9b4a": {
     "views": []
    },
    "a7cf50d2634946fc98b98b323d16294f": {
     "views": []
    },
    "e65eb909dbc6467e97152b2ca790e368": {
     "views": []
    },
    "efae586b76ee48189aae97d291ec43ff": {
     "views": []
    }
   },
   "version": "1.1.2"
  }
 },
 "nbformat": 4,
 "nbformat_minor": 0
}
