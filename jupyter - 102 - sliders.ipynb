{
 "cells": [
  {
   "cell_type": "markdown",
   "metadata": {},
   "source": [
    "# Sliders"
   ]
  },
  {
   "cell_type": "markdown",
   "metadata": {},
   "source": [
    "sliders and interactive things are righteous"
   ]
  },
  {
   "cell_type": "markdown",
   "metadata": {},
   "source": [
    "*note*: I had to install the latest version of ipywidgets from a separate conda chanel (the default is over one major behind, super weird...). To do so:\n",
    "\n",
    "```\n",
    "conda install -c conda-forge ipywidgets\n",
    "```\n",
    "\n",
    "This requires a notebook extension to boot:\n",
    "```\n",
    "jupyter nbextension enable --py --sys-prefix widgetsnbextension\n",
    "```"
   ]
  },
  {
   "cell_type": "code",
   "execution_count": 1,
   "metadata": {
    "collapsed": true
   },
   "outputs": [],
   "source": [
    "import ipywidgets"
   ]
  },
  {
   "cell_type": "code",
   "execution_count": 8,
   "metadata": {
    "collapsed": true
   },
   "outputs": [],
   "source": [
    "mydesc = '{label}: {start:} -> {stop:}'"
   ]
  },
  {
   "cell_type": "code",
   "execution_count": 16,
   "metadata": {
    "collapsed": false
   },
   "outputs": [],
   "source": [
    "select_a = ipywidgets.SelectionSlider(\n",
    "    description=mydesc.format(label='a', start='1', stop='10'),\n",
    "    options=list(range(1, 10))\n",
    ")"
   ]
  },
  {
   "cell_type": "code",
   "execution_count": 17,
   "metadata": {
    "collapsed": false
   },
   "outputs": [],
   "source": [
    "select_b = ipywidgets.SelectionSlider(\n",
    "    description=mydesc.format(label='b', start='0', stop=select_a.value),\n",
    "    options=list(range(select_a.value + 1))\n",
    ")\n",
    "\n",
    "def update_b_range(*args):\n",
    "    select_b.description = mydesc.format(label='b', start='0', stop=select_a.value)\n",
    "    select_b.options = list(range(select_a.value + 1))\n",
    "    \n",
    "select_a.observe(update_b_range, 'value')"
   ]
  },
  {
   "cell_type": "code",
   "execution_count": 18,
   "metadata": {
    "collapsed": true
   },
   "outputs": [],
   "source": [
    "select_c = ipywidgets.SelectionSlider(\n",
    "    description=mydesc.format(label='c', start='0', stop=select_b.value),\n",
    "    options=list(range(select_b.value + 1))\n",
    ")\n",
    "\n",
    "def update_c_range(*args):\n",
    "    select_c.description = mydesc.format(label='c', start='0', stop=select_b.value)\n",
    "    select_c.options = list(range(select_b.value + 1))\n",
    "    \n",
    "select_b.observe(update_c_range, 'value')"
   ]
  },
  {
   "cell_type": "code",
   "execution_count": 19,
   "metadata": {
    "collapsed": false
   },
   "outputs": [],
   "source": [
    "select_d = ipywidgets.SelectionSlider(\n",
    "    description=mydesc.format(label='d', start='0', stop=select_c.value),\n",
    "    options=list(range(select_c.value + 1))\n",
    ")\n",
    "\n",
    "def update_d_range(*args):\n",
    "    select_d.description = mydesc.format(label='d', start='0', stop=select_c.value)\n",
    "    select_d.options = list(range(select_c.value + 1))\n",
    "    \n",
    "select_c.observe(update_d_range, 'value')"
   ]
  },
  {
   "cell_type": "code",
   "execution_count": 20,
   "metadata": {
    "collapsed": false
   },
   "outputs": [
    {
     "name": "stdout",
     "output_type": "stream",
     "text": [
      "a = 7; b = 2; c = 2; d = 1\n"
     ]
    }
   ],
   "source": [
    "def printem(a, b, c, d):\n",
    "    print('a = {}; b = {}; c = {}; d = {}'.format(a, b, c, d))\n",
    "    \n",
    "ipywidgets.interact(printem, a=select_a, b=select_b, c=select_c, d=select_d);"
   ]
  },
  {
   "cell_type": "code",
   "execution_count": null,
   "metadata": {
    "collapsed": true
   },
   "outputs": [],
   "source": []
  },
  {
   "cell_type": "code",
   "execution_count": null,
   "metadata": {
    "collapsed": true
   },
   "outputs": [],
   "source": []
  }
 ],
 "metadata": {
  "kernelspec": {
   "display_name": "Python 3",
   "language": "python",
   "name": "python3"
  },
  "language_info": {
   "codemirror_mode": {
    "name": "ipython",
    "version": 3
   },
   "file_extension": ".py",
   "mimetype": "text/x-python",
   "name": "python",
   "nbconvert_exporter": "python",
   "pygments_lexer": "ipython3",
   "version": "3.5.1"
  },
  "widgets": {
   "state": {
    "00c653fcda0446e39261b8afb9bc4a19": {
     "views": []
    },
    "021b58cad3ab436a8ec5757e43a9e118": {
     "views": []
    },
    "03be41b60b93452a9bc98cf8a13896a0": {
     "views": []
    },
    "08142c6acbfb4ef4aff1f59661e650f3": {
     "views": []
    },
    "091b0120d94843a2a532e6e43ce32b81": {
     "views": []
    },
    "0b1af1fd86b2439ab0d52468878d0d20": {
     "views": []
    },
    "0eafa6a7f3174e629cd8ae93fece4d06": {
     "views": []
    },
    "0f71c865be534e9792514741e445e725": {
     "views": []
    },
    "11b666030fac4b4799630bbd9b6d1bc9": {
     "views": []
    },
    "134cdb6f3ab941568b22db1ebe0044c8": {
     "views": []
    },
    "157904ecfaad40d1877fd65f005575ba": {
     "views": []
    },
    "1c755378914b40f99f992327294d82c5": {
     "views": [
      {
       "cell_index": 9
      }
     ]
    },
    "1e8375baa3ac419184909385ce472d58": {
     "views": []
    },
    "2010e2f0130742e8af8e73404d8f157d": {
     "views": []
    },
    "20b9afb35b484c3b931aef97581c3a34": {
     "views": []
    },
    "224ec1eadfdd40b38e3a98a6511bc493": {
     "views": []
    },
    "24ca7d616d9140378cd7f5e635bc1f50": {
     "views": []
    },
    "2949c380c5b84be28ef992a368a72898": {
     "views": []
    },
    "2ebfa34f74404a1cba44634644f025fc": {
     "views": []
    },
    "32da52c1937049e291591065f96e8284": {
     "views": []
    },
    "3738d854013f4f2497f50c9e2ca73055": {
     "views": []
    },
    "379b385221694bd0b31a5331f418a40c": {
     "views": []
    },
    "3816d9ca1fc748d693a0ec19b415078d": {
     "views": []
    },
    "395a813eac48457d831585c6a1880e71": {
     "views": []
    },
    "3cc5c02c7a1949e4a20545370a002b39": {
     "views": []
    },
    "3d711a202da543baa7aa652861d73b03": {
     "views": []
    },
    "42dcd8fb4d064cf8ade4e633eceadc59": {
     "views": []
    },
    "473fe9dbe11c442da92150b73329c6e1": {
     "views": []
    },
    "4a208df8af2e404fa28c5e2ac7249706": {
     "views": []
    },
    "4c19b5e134784006ae57950446aec676": {
     "views": []
    },
    "5937caba47694c9eb9a59d488b9cbb63": {
     "views": []
    },
    "5ac2f12ad40c432685eb95032358fb8b": {
     "views": []
    },
    "5edb830f85f64462bc0934252f1b260a": {
     "views": []
    },
    "6706fe0ac85f48e5b8e0f5f6934ba85f": {
     "views": []
    },
    "69cfeee018ea4b85a06008afd8a19bef": {
     "views": []
    },
    "706e07e603f24d44a15a6598b564e4fc": {
     "views": []
    },
    "717358433b4e43b8a9e01555020abd21": {
     "views": []
    },
    "766f48802f044c3e85d1d34a104d43cd": {
     "views": []
    },
    "76dd1b5e26a44df28edc2f765e2c8094": {
     "views": []
    },
    "7d779bfdd28a48a68183becfdad7406b": {
     "views": []
    },
    "80796ac7b56f4dc0a17b04a1e7021f5c": {
     "views": []
    },
    "8bf30132a4d7416cab48c379d796b113": {
     "views": []
    },
    "8ec24ac1d5614f0dac5ac9361f62f2a7": {
     "views": []
    },
    "91b915b8a9b6422a95889fe3d674eeca": {
     "views": []
    },
    "9bb44915a48549b9b584997d62846a7d": {
     "views": []
    },
    "a0ffe07e35fa40c68e5d1029edeb5394": {
     "views": []
    },
    "a55e884e2daa4389899eee8ad489705b": {
     "views": []
    },
    "aa55060f1e274e4898f33f8897c0f94d": {
     "views": []
    },
    "ab2844c3cedd48d9a13af4fcae1f9229": {
     "views": []
    },
    "ae0c8bd9e9da497b9445f0da009df688": {
     "views": []
    },
    "ae6c032e43fa466e8c567c0f0f241548": {
     "views": []
    },
    "aea3c211fc34447d8f285f2bc5e3af8b": {
     "views": []
    },
    "b1368dd877e7478daac933adce6eefbb": {
     "views": []
    },
    "b69f015dd9fe437d9451e53974a3b1ba": {
     "views": []
    },
    "b76cacc23eb54bbdbde3a19b5b4ea815": {
     "views": []
    },
    "bab73301bf254b2bba74ae190e3be58b": {
     "views": []
    },
    "c145f054bdf540338e4080b8f7f34f2a": {
     "views": []
    },
    "c2ce861fc1114dacac6fde0ba6bb51a5": {
     "views": []
    },
    "c9eb296048c841f4a4244a71e300d9ce": {
     "views": []
    },
    "cd913802232a4c9785201b02719638f6": {
     "views": []
    },
    "d4bac8c254b04017bf6c47126c3c3fee": {
     "views": []
    },
    "dc39f73b95094722a186985a0bb84516": {
     "views": []
    },
    "e34e0a865a5145c0814be460d355f38f": {
     "views": []
    },
    "e4f0a6d010c74445be2978517ff2645b": {
     "views": []
    },
    "e6b4adb59f0646949fc894b9088d60fa": {
     "views": []
    },
    "e8eb99c1d34d43309be8f4390e3917b1": {
     "views": []
    },
    "ea8ff7f6c168431e8d8b1e19b33efc4f": {
     "views": []
    },
    "ec4f5f84b51b4852a2d349f5a636e87b": {
     "views": []
    },
    "f1a56ed90355434b990f77f849e6e1de": {
     "views": []
    },
    "fa38e5463eb24a5f813073d0c95d103b": {
     "views": []
    }
   },
   "version": "1.1.2"
  }
 },
 "nbformat": 4,
 "nbformat_minor": 0
}
