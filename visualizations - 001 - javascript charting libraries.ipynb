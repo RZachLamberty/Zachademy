{
 "cells": [
  {
   "cell_type": "markdown",
   "metadata": {},
   "source": [
    "***don't use this!***\n",
    "\n",
    "Go check out [this repo](https://github.com/RZachLamberty/jspy_plotting) which uses flask for an implementation which is a bit more natural."
   ]
  },
  {
   "cell_type": "markdown",
   "metadata": {},
   "source": [
    "# JavaScript Charting Libraries"
   ]
  },
  {
   "cell_type": "markdown",
   "metadata": {},
   "source": [
    "So, I often find myself needing to put some charts up on them webs. Which library should I use? Which is easiest to integrate with Python, say, and which requires me putting all that schnazz directly into js?\n",
    "\n",
    "Let's just try a few out.\n",
    "\n",
    "**note**: these tutorials are what I could find as of 2016-05-24"
   ]
  },
  {
   "cell_type": "markdown",
   "metadata": {},
   "source": [
    "## Prep"
   ]
  },
  {
   "cell_type": "markdown",
   "metadata": {},
   "source": [
    "just want to put together some data to graph later"
   ]
  },
  {
   "cell_type": "code",
   "execution_count": 98,
   "metadata": {
    "collapsed": false
   },
   "outputs": [],
   "source": [
    "%matplotlib inline\n",
    "\n",
    "import matplotlib.pyplot as plt\n",
    "import lxml\n",
    "import lxml.etree\n",
    "import lxml.html\n",
    "import numpy as np\n",
    "import pandas as pd\n",
    "import seaborn as sns\n",
    "\n",
    "from IPython.core.display import HTML, display"
   ]
  },
  {
   "cell_type": "code",
   "execution_count": 99,
   "metadata": {
    "collapsed": true
   },
   "outputs": [],
   "source": [
    "eps = 0.1\n",
    "x = np.linspace(-2 * np.pi, 2 * np.pi, 500)\n",
    "y = np.sin(x) + eps * np.random.randn(len(x))"
   ]
  },
  {
   "cell_type": "code",
   "execution_count": 100,
   "metadata": {
    "collapsed": false
   },
   "outputs": [
    {
     "data": {
      "image/png": "[encoded data removed]",
      "text/plain": [
       "<matplotlib.figure.Figure at 0x112d13550>"
      ]
     },
     "metadata": {},
     "output_type": "display_data"
    }
   ],
   "source": [
    "f = plt.figure()\n",
    "a = f.add_subplot(111)\n",
    "a.plot(x, y);"
   ]
  },
  {
   "cell_type": "code",
   "execution_count": 101,
   "metadata": {
    "collapsed": false
   },
   "outputs": [
    {
     "data": {
      "image/png": "[encoded data removed]",
      "text/plain": [
       "<matplotlib.figure.Figure at 0x110376f60>"
      ]
     },
     "metadata": {},
     "output_type": "display_data"
    }
   ],
   "source": [
    "animals = ['hippo', 'giraffe', 'elephant', 'human', 'tiger']\n",
    "height = [5, 15, 10, 6, 5]\n",
    "numAnimals = {\n",
    "    'sf': [5, 7, 2, 1, 4],\n",
    "    'la': [6, 1, 4, 0, 8],\n",
    "}\n",
    "d = pd.DataFrame({'animal': animals, 'height': height, 'sf': numAnimals['sf'], 'la': numAnimals['la']})\n",
    "d.plot.bar(x='animal', y='height');"
   ]
  },
  {
   "cell_type": "markdown",
   "metadata": {},
   "source": [
    "## Plotly\n",
    "\n",
    "Plotly has pretty tight integration with Python, obviously, but there is also `plotly.js` for web rendering.\n",
    "\n",
    "There are a few things you could do"
   ]
  },
  {
   "cell_type": "markdown",
   "metadata": {},
   "source": [
    "### offline render and display\n",
    "\n",
    "I think this is a pretty weak option. Every time some one makes a call to your webpage, you re-render your plot and re-display it? Seems like a nightmare for multi-access apps. But anyway, here's how you do it:"
   ]
  },
  {
   "cell_type": "code",
   "execution_count": 102,
   "metadata": {
    "collapsed": false
   },
   "outputs": [],
   "source": [
    "import plotly\n",
    "import plotly.graph_objs as go\n",
    "\n",
    "line = go.Scatter(x=x, y=y, mode='lines+markers')"
   ]
  },
  {
   "cell_type": "markdown",
   "metadata": {},
   "source": [
    "#### in a jupyter notebook\n",
    "\n",
    "Ok, so, if you were in a notebook you didn't need to solve this problem. But here is the solution:"
   ]
  },
  {
   "cell_type": "code",
   "execution_count": 103,
   "metadata": {
    "collapsed": false
   },
   "outputs": [],
   "source": [
    "#plotly.offline.init_notebook_mode()"
   ]
  },
  {
   "cell_type": "code",
   "execution_count": 104,
   "metadata": {
    "collapsed": false
   },
   "outputs": [],
   "source": [
    "#plotly.offline.iplot({'data': [line], 'layout': {'title': 'hello world'}})"
   ]
  },
  {
   "cell_type": "markdown",
   "metadata": {},
   "source": [
    "Well, that couldn't really be more underwhelming, now, could it?"
   ]
  },
  {
   "cell_type": "markdown",
   "metadata": {},
   "source": [
    "#### regular offline plotting"
   ]
  },
  {
   "cell_type": "code",
   "execution_count": 105,
   "metadata": {
    "collapsed": false
   },
   "outputs": [
    {
     "data": {
      "text/plain": [
       "'file:///Users/zach.lamberty/personal/notebooks/Zachademy/temp-plot.html'"
      ]
     },
     "execution_count": 105,
     "metadata": {},
     "output_type": "execute_result"
    }
   ],
   "source": [
    "plotly.offline.plot({'data': [line], 'layout': {'title': 'hello world'}})"
   ]
  },
  {
   "cell_type": "markdown",
   "metadata": {},
   "source": [
    "You wanted that to pop open, right?\n",
    "\n",
    "Well, at least this you can display in arbitrary html:"
   ]
  },
  {
   "cell_type": "code",
   "execution_count": 106,
   "metadata": {
    "collapsed": true
   },
   "outputs": [],
   "source": [
    "fname = plotly.offline.plot(\n",
    "    {'data': [line], 'layout': {'title': 'hello world'}}, \n",
    "    auto_open=False\n",
    ").replace('file://', '')"
   ]
  },
  {
   "cell_type": "code",
   "execution_count": 107,
   "metadata": {
    "collapsed": false
   },
   "outputs": [],
   "source": [
    "#with open(fname, 'r') as f:\n",
    "#    display(HTML(f.read()))"
   ]
  },
  {
   "cell_type": "markdown",
   "metadata": {},
   "source": [
    "Well that's a bummer... full html. Not going to be injected easily. I guess we could parse that ish..."
   ]
  },
  {
   "cell_type": "code",
   "execution_count": 108,
   "metadata": {
    "collapsed": false
   },
   "outputs": [],
   "source": [
    "#with open(fname, 'r') as f:\n",
    "#    root = lxml.html.fromstring(f.read())\n",
    "#display(HTML(lxml.etree.tostring(root.body).decode('utf-8')))"
   ]
  },
  {
   "cell_type": "markdown",
   "metadata": {},
   "source": [
    "Well it was nice.\n",
    "Let's just do this the sane way, then, instead"
   ]
  },
  {
   "cell_type": "markdown",
   "metadata": {},
   "source": [
    "#### embedded javascript"
   ]
  },
  {
   "cell_type": "code",
   "execution_count": 109,
   "metadata": {
    "collapsed": false
   },
   "outputs": [],
   "source": [
    "import json\n",
    "from IPython.display import Javascript"
   ]
  },
  {
   "cell_type": "code",
   "execution_count": 110,
   "metadata": {
    "collapsed": false
   },
   "outputs": [
    {
     "data": {
      "application/javascript": [
       "\n",
       "window.visObj={\"x\": [-6.283185307179586, -6.258002199735981, -6.232819092292375, -6.207635984848769, -6.182452877405164, -6.157269769961559, -6.132086662517953, -6.106903555074347, -6.081720447630742, -6.056537340187136, -6.0313542327435306, -6.006171125299925, -5.98098801785632, -5.955804910412714, -5.9306218029691085, -5.905438695525503, -5.880255588081897, -5.855072480638292, -5.829889373194686, -5.804706265751081, -5.779523158307475, -5.75434005086387, -5.729156943420264, -5.703973835976658, -5.678790728533053, -5.6536076210894475, -5.628424513645842, -5.603241406202236, -5.578058298758631, -5.552875191315025, -5.52769208387142, -5.502508976427814, -5.477325868984209, -5.452142761540603, -5.426959654096997, -5.401776546653392, -5.3765934392097865, -5.35141033176618, -5.326227224322575, -5.30104411687897, -5.2758610094353635, -5.250677901991758, -5.225494794548153, -5.200311687104548, -5.175128579660942, -5.149945472217336, -5.124762364773731, -5.0995792573301255, -5.074396149886519, -5.049213042442914, -5.024029934999309, -4.9988468275557025, -4.973663720112097, -4.948480612668492, -4.923297505224886, -4.89811439778128, -4.872931290337675, -4.84774818289407, -4.8225650754504645, -4.797381968006858, -4.772198860563253, -4.747015753119648, -4.7218326456760416, -4.696649538232436, -4.671466430788831, -4.646283323345225, -4.6211002159016195, -4.595917108458014, -4.570734001014408, -4.545550893570803, -4.520367786127197, -4.495184678683592, -4.470001571239987, -4.444818463796381, -4.419635356352775, -4.39445224890917, -4.369269141465564, -4.3440860340219585, -4.318902926578353, -4.293719819134747, -4.268536711691142, -4.243353604247536, -4.21817049680393, -4.192987389360326, -4.16780428191672, -4.142621174473114, -4.117438067029509, -4.092254959585903, -4.0670718521422975, -4.041888744698692, -4.016705637255086, -3.9915225298114807, -3.9663394223678754, -3.9411563149242697, -3.915973207480664, -3.8907901000370586, -3.865606992593453, -3.8404238851498476, -3.815240777706242, -3.7900576702626365, -3.7648745628190308, -3.739691455375425, -3.7145083479318197, -3.689325240488214, -3.6641421330446087, -3.638959025601003, -3.6137759181573976, -3.588592810713792, -3.563409703270186, -3.538226595826581, -3.513043488382975, -3.48786038093937, -3.462677273495764, -3.4374941660521587, -3.412311058608553, -3.3871279511649472, -3.361944843721342, -3.336761736277736, -3.311578628834131, -3.286395521390525, -3.26121241394692, -3.236029306503314, -3.2108461990597084, -3.185663091616103, -3.1604799841724973, -3.135296876728892, -3.1101137692852863, -3.084930661841681, -3.059747554398075, -3.0345644469544695, -3.009381339510864, -2.9841982320672584, -2.959015124623653, -2.9338320171800474, -2.908648909736442, -2.8834658022928363, -2.8582826948492306, -2.8330995874056253, -2.8079164799620195, -2.7827333725184142, -2.7575502650748085, -2.732367157631203, -2.7071840501875974, -2.6820009427439917, -2.6568178353003864, -2.6316347278567807, -2.6064516204131754, -2.5812685129695696, -2.5560854055259643, -2.5309022980823586, -2.505719190638753, -2.4805360831951475, -2.4553529757515418, -2.4301698683079365, -2.4049867608643307, -2.3798036534207254, -2.3546205459771197, -2.329437438533514, -2.3042543310899086, -2.2790712236463033, -2.253888116202697, -2.228705008759092, -2.2035219013154865, -2.1783387938718812, -2.153155686428275, -2.1279725789846697, -2.1027894715410644, -2.0776063640974582, -2.052423256653853, -2.0272401492102476, -2.0020570417666423, -1.9768739343230362, -1.9516908268794309, -1.9265077194358255, -1.9013246119922194, -1.876141504548614, -1.8509583971050088, -1.8257752896614035, -1.8005921822177973, -1.775409074774192, -1.7502259673305867, -1.7250428598869805, -1.6998597524433752, -1.6746766449997699, -1.6494935375561646, -1.6243104301125584, -1.599127322668953, -1.5739442152253478, -1.5487611077817416, -1.5235780003381363, -1.498394892894531, -1.4732117854509257, -1.4480286780073195, -1.4228455705637142, -1.3976624631201089, -1.3724793556765027, -1.3472962482328974, -1.322113140789292, -1.2969300333456868, -1.2717469259020806, -1.2465638184584753, -1.22138071101487, -1.1961976035712638, -1.1710144961276585, -1.1458313886840532, -1.120648281240448, -1.0954651737968417, -1.0702820663532364, -1.0450989589096311, -1.019915851466025, -0.9947327440224196, -0.9695496365788143, -0.944366529135209, -0.9191834216916028, -0.8940003142479975, -0.8688172068043922, -0.843634099360786, -0.8184509919171807, -0.7932678844735754, -0.7680847770299701, -0.7429016695863639, -0.7177185621427586, -0.6925354546991533, -0.6673523472555472, -0.6421692398119418, -0.6169861323683365, -0.5918030249247312, -0.5666199174811251, -0.5414368100375198, -0.5162537025939145, -0.49107059515030826, -0.46588748770670296, -0.44070438026309766, -0.41552127281949236, -0.39033816537588617, -0.36515505793228087, -0.33997195048867557, -0.3147888430450694, -0.2896057356014641, -0.2644226281578588, -0.23923952071425347, -0.21405641327064728, -0.18887330582704198, -0.16369019838343668, -0.1385070909398305, -0.11332398349622519, -0.08814087605261989, -0.06295776860901459, -0.037774661165408396, -0.012591553721803095, 0.012591553721802207, 0.037774661165408396, 0.0629577686090137, 0.088140876052619, 0.1133239834962243, 0.1385070909398305, 0.1636901983834358, 0.1888733058270411, 0.21405641327064728, 0.23923952071425258, 0.2644226281578579, 0.2896057356014632, 0.3147888430450694, 0.3399719504886747, 0.36515505793228, 0.39033816537588617, 0.41552127281949147, 0.4407043802630968, 0.4658874877067021, 0.49107059515030826, 0.5162537025939136, 0.5414368100375189, 0.5666199174811251, 0.5918030249247304, 0.6169861323683357, 0.642169239811941, 0.6673523472555472, 0.6925354546991525, 0.7177185621427578, 0.7429016695863639, 0.7680847770299692, 0.7932678844735745, 0.8184509919171798, 0.843634099360786, 0.8688172068043913, 0.8940003142479966, 0.9191834216916028, 0.9443665291352081, 0.9695496365788134, 0.9947327440224187, 1.019915851466025, 1.0450989589096302, 1.0702820663532355, 1.0954651737968417, 1.120648281240447, 1.1458313886840523, 1.1710144961276576, 1.1961976035712638, 1.2213807110148691, 1.2465638184584744, 1.2717469259020806, 1.296930033345686, 1.3221131407892912, 1.3472962482328965, 1.3724793556765027, 1.397662463120108, 1.4228455705637133, 1.4480286780073195, 1.4732117854509248, 1.49839489289453, 1.5235780003381354, 1.5487611077817416, 1.5739442152253469, 1.5991273226689522, 1.6243104301125584, 1.6494935375561637, 1.674676644999769, 1.6998597524433743, 1.7250428598869796, 1.7502259673305858, 1.775409074774192, 1.8005921822177964, 1.8257752896614026, 1.8509583971050088, 1.8761415045486132, 1.9013246119922194, 1.9265077194358238, 1.95169082687943, 1.9768739343230362, 2.0020570417666406, 2.0272401492102468, 2.052423256653853, 2.0776063640974574, 2.1027894715410635, 2.1279725789846697, 2.153155686428274, 2.1783387938718803, 2.2035219013154865, 2.228705008759091, 2.253888116202697, 2.2790712236463015, 2.3042543310899077, 2.329437438533514, 2.3546205459771183, 2.3798036534207245, 2.4049867608643307, 2.430169868307935, 2.4553529757515413, 2.4805360831951475, 2.505719190638752, 2.530902298082358, 2.5560854055259643, 2.5812685129695687, 2.606451620413175, 2.6316347278567793, 2.6568178353003855, 2.6820009427439917, 2.707184050187596, 2.7323671576312023, 2.7575502650748085, 2.782733372518413, 2.807916479962019, 2.8330995874056253, 2.8582826948492297, 2.883465802292836, 2.908648909736442, 2.9338320171800465, 2.9590151246236527, 2.984198232067257, 3.0093813395108633, 3.0345644469544695, 3.059747554398074, 3.08493066184168, 3.1101137692852863, 3.1352968767288907, 3.160479984172497, 3.185663091616103, 3.2108461990597075, 3.2360293065033137, 3.26121241394692, 3.2863955213905243, 3.3115786288341305, 3.336761736277735, 3.361944843721341, 3.3871279511649472, 3.4123110586085517, 3.437494166052158, 3.462677273495764, 3.4878603809393685, 3.5130434883829746, 3.538226595826581, 3.5634097032701852, 3.5885928107137914, 3.6137759181573976, 3.638959025601002, 3.6641421330446082, 3.6893252404882126, 3.714508347931819, 3.739691455375425, 3.7648745628190294, 3.7900576702626356, 3.815240777706242, 3.8404238851498462, 3.8656069925934524, 3.8907901000370586, 3.915973207480663, 3.941156314924269, 3.9663394223678754, 3.99152252981148, 4.016705637255086, 4.04188874469869, 4.067071852142297, 4.092254959585903, 4.117438067029507, 4.142621174473113, 4.16780428191672, 4.192987389360324, 4.21817049680393, 4.243353604247536, 4.268536711691141, 4.293719819134747, 4.318902926578353, 4.344086034021958, 4.369269141465564, 4.394452248909168, 4.419635356352774, 4.444818463796381, 4.470001571239985, 4.495184678683591, 4.520367786127197, 4.545550893570802, 4.570734001014408, 4.595917108458014, 4.621100215901619, 4.646283323345225, 4.671466430788831, 4.696649538232435, 4.7218326456760416, 4.747015753119646, 4.772198860563252, 4.797381968006858, 4.822565075450463, 4.847748182894069, 4.872931290337675, 4.8981143977812795, 4.923297505224886, 4.948480612668492, 4.973663720112096, 4.9988468275557025, 5.024029934999309, 5.049213042442913, 5.074396149886519, 5.099579257330124, 5.12476236477373, 5.149945472217336, 5.1751285796609405, 5.200311687104547, 5.225494794548153, 5.250677901991757, 5.2758610094353635, 5.30104411687897, 5.326227224322574, 5.35141033176618, 5.3765934392097865, 5.401776546653391, 5.426959654096997, 5.4521427615406015, 5.477325868984208, 5.502508976427814, 5.527692083871418, 5.5528751913150245, 5.578058298758631, 5.603241406202235, 5.628424513645841, 5.6536076210894475, 5.678790728533052, 5.703973835976658, 5.729156943420264, 5.754340050863869, 5.779523158307475, 5.804706265751079, 5.8298893731946855, 5.855072480638292, 5.880255588081896, 5.905438695525502, 5.9306218029691085, 5.955804910412713, 5.980988017856319, 6.006171125299925, 6.03135423274353, 6.056537340187136, 6.081720447630742, 6.1069035550743465, 6.132086662517953, 6.157269769961557, 6.182452877405163, 6.207635984848769, 6.232819092292374, 6.25800219973598, 6.283185307179586], \"type\": \"scatter\", \"y\": [0.20076854583672402, -0.016263258231723806, 0.045425800486752196, 0.27253235772345347, 0.04236765656476626, -0.037155308977121326, 0.06793898300497841, 0.2735103785844616, 0.16900591418488511, 0.2487028094399106, 0.13568176612903232, 0.2254954685027041, 0.22103093930960355, 0.29017217623493974, 0.3638222576565657, 0.2779912385436349, 0.31384061474258823, 0.45513325423422557, 0.29985532238855217, 0.5659019104364125, 0.34394826372376497, 0.48471815535994306, 0.45165061669711926, 0.5706259181432644, 0.41190377532430095, 0.4682438135524436, 0.5318276812592125, 0.7844639676468682, 0.504255867014955, 0.5574185777585186, 0.5315201590352732, 0.5801978532578913, 0.7126619703890189, 0.7461389091650602, 0.7252024585809348, 0.7996619674712726, 0.8644277795416331, 1.0661707217711016, 0.5482710701096769, 0.8469483648241165, 0.7074264600669106, 0.9264843512308614, 0.8409680789599373, 0.9607403082242454, 0.8057020151652918, 0.8765431909790459, 0.8045971530806222, 0.9708004800256377, 1.2967647379965417, 0.9284103265751925, 0.8301815439942399, 1.0648837922129761, 0.9234787303458368, 1.1355891958997093, 0.8740803449852061, 0.8940086394750956, 0.9767605661960272, 0.9199521091949401, 0.8688209505102212, 1.0486299141647482, 0.9296962216217222, 0.9864289953500627, 0.9489370846808306, 1.2293235059987233, 0.9796567959289757, 0.9531778856657535, 0.9569077063881622, 0.9111179130147827, 1.046534657952434, 1.1467573000736107, 0.7515252499192702, 0.9719475257396191, 0.9697215788304314, 1.0873516250686523, 1.013123242087005, 0.9721288065735703, 0.9224067411446686, 0.9364339276686757, 0.9936439456097608, 0.7809156450329935, 0.9666774126060875, 0.8954914085796579, 0.9897652268729159, 0.8739137754584355, 0.8151974050226434, 0.7518203564938503, 0.7221472393462541, 0.8982122711427586, 0.6103548126762341, 0.7753349213791866, 0.8138575065688294, 0.7957020743235756, 0.6470796329282955, 0.7261920025142723, 0.8549854187728566, 0.6868486565045862, 0.6660755866542528, 0.7360771422385375, 0.5655662419606331, 0.601528504796434, 0.6065123193405816, 0.5763340833704116, 0.620575762234209, 0.5641242313005289, 0.4804336148912725, 0.6579617113282503, 0.49732113666326794, 0.3832172954890176, 0.2875435192881179, 0.3521129787391943, 0.351376974495183, 0.2779425136218754, 0.38696565225585394, 0.13683177597669036, 0.26898730205744203, 0.05165569752540719, 0.35075131959971395, 0.13666603174862746, 0.18754063943905552, 0.19858660699139466, 0.2553691800852734, 0.056490378958879296, 0.032800924784011136, 0.041988280712887724, 0.018988673382795748, 0.10796674121255466, -0.04746448911356326, 0.11140470845032137, 0.13114446283530506, -0.1379753530752983, -0.08050781608031704, -0.19466594930058592, -0.14723335627423337, -0.20865088208189383, -0.1769078477938148, -0.3081623711416489, -0.266847575606619, -0.30736870133717276, -0.16905738736160433, -0.31175673713102825, -0.33169582583023904, -0.32435945344548794, -0.3522305867891039, -0.3636438941655954, -0.552269364963063, -0.2663604136510068, -0.6293607823938567, -0.5710842978971042, -0.5952678496230631, -0.5417237389116432, -0.5332408363471844, -0.622123486940735, -0.7432491956358331, -0.8008653559212141, -0.6219009404104799, -0.5479598020177632, -0.8251490796172659, -0.7601340634930639, -0.7675530658490134, -0.8126470895318885, -0.8209926754387494, -0.7304900066366918, -0.8620794242809875, -0.7365846967843263, -0.7326520317685897, -0.7004182672914444, -0.7614010413301945, -0.9346700249787254, -0.8121345595584029, -1.012859297430506, -0.749222467265305, -0.8702458676022446, -0.8745237241954263, -0.8673808923137474, -0.8877283964308732, -1.1705177207926933, -0.9159873682996252, -0.866006474800461, -1.0222018909422903, -1.1633587689896219, -0.9797347524917716, -0.9722099919534957, -1.0871732055018346, -0.9908339630727035, -1.0224962146707088, -0.9887531646594908, -1.0686626265446273, -1.0209474326797086, -0.7347886626371086, -0.899319491379306, -1.213072733011324, -1.0173714910509124, -1.0720460468051018, -1.0440478694259858, -1.2000559350936297, -1.0853389430044236, -0.9456438059867054, -1.166880951520471, -0.9294410718388886, -0.940301603226099, -1.1398096662584292, -1.026939331449665, -0.9432890806947456, -0.801858464689655, -0.8968038141005811, -0.8809998755721548, -1.0457306203143115, -0.8442608070480097, -0.9647478433527304, -0.8857539136275573, -0.8620031625655808, -0.7281664767344854, -0.8868788062093863, -0.7868747209484659, -0.6446085842231507, -0.7688782512211249, -0.669683002446525, -0.7836727596798334, -0.8952830522296014, -0.7116457462480418, -0.7101527245627307, -0.805794852908001, -0.6815807212324017, -0.507803946404182, -0.6498456506591317, -0.6680885977491101, -0.4960615593604657, -0.5597742938569117, -0.4565342917600864, -0.37165257649688305, -0.5423359034113235, -0.5292486663301839, -0.529107946478988, -0.3904064581663743, -0.45016136328144435, -0.3326523651736175, -0.2868209944414913, -0.2950164793998395, -0.1989205280383052, -0.2690176456639198, -0.3353427365910382, -0.25795644846570687, -0.20328204005660497, -0.2203654696161199, -0.23623761064493998, -0.1376808281668706, -0.2183463970276408, -0.1273950751258457, -0.1220617763398831, 0.23931909101686794, 0.181410032861759, 0.1152976721191232, 0.0195310409806849, -0.09693201447317161, 0.1041459125558036, 0.053742628780071605, 0.20408543788946903, 0.09027037048744266, 0.2633552231534398, 0.32034599519747203, 0.19361461708144284, 0.14396450513988168, 0.24466088094458383, 0.23234886846191105, 0.3261766003776758, 0.2683067571219262, 0.4685643906261395, 0.3463429253530527, 0.37415903646381343, 0.4780487600537242, 0.461151615894323, 0.3478105866031418, 0.49437239179587206, 0.5260458789410553, 0.6669321780136584, 0.6421600662245712, 0.747876318332313, 0.5149610559891288, 0.904480102449343, 0.7629088921005128, 0.7411488943513378, 0.6042991148966892, 0.5534623715381359, 0.6863394046745199, 0.7803758304205337, 0.6322739891974717, 1.0703368052774962, 0.7473933905372958, 0.8671528789279047, 0.6780636135651568, 0.8164021610118255, 0.9195533212912664, 0.8186498592861545, 1.04342568474298, 0.8516463145139193, 0.7913784277293942, 0.9968512889872421, 0.9628652955327236, 1.0214054524717873, 0.918353760822748, 1.2402015331064042, 1.0074093370628752, 0.9816829410814114, 0.9920834513974723, 0.8860218440992799, 1.0742255667911231, 0.9398155544359321, 0.8602626864596026, 0.9062669156090271, 1.021350552292891, 0.875922178731456, 1.070192123658641, 1.1330513756153573, 1.0640554296332165, 1.0514811708411642, 1.1207040246755062, 0.965789301663777, 0.9223549052835358, 0.9192409089729023, 0.9645747429930105, 0.7756558043990708, 0.9412985933728811, 0.8973792741039531, 0.8799575895415932, 1.0703122509782104, 1.0719920989070275, 1.044434003929422, 0.8956890461623602, 0.8284151117144003, 0.8918989066546542, 0.9111118150299113, 1.0072712364156933, 1.0515355195870821, 1.0463715332437076, 0.8910761586493435, 0.9441798155720028, 0.8236725299331056, 0.8707612410348171, 0.5378705910144446, 0.709115324835421, 0.8095699544677395, 0.8113032895106552, 0.7798481320959105, 0.6405454156349782, 0.6530734638154267, 0.7742000435634763, 0.5381141639069665, 0.5175256996671964, 0.5676895640261281, 0.698613100879271, 0.5988532135961554, 0.675980508775188, 0.6458109995954566, 0.6364878192704252, 0.7093704910838985, 0.38370776694925646, 0.41469117720889254, 0.5831961274906066, 0.5111461589987095, 0.545225591255146, 0.5292560968256276, 0.4365077930372828, 0.23356111211040975, 0.26379949198605535, 0.29175932152455647, 0.14609656668710877, 0.3098108301003041, 0.16780398010168268, 0.2044258471122998, 0.1477734050866735, 0.1744918090009308, 0.19573670853770014, 0.04429866887123242, -0.1778807852919835, -0.052620035527876835, -0.1650489432022504, 0.09908629765775505, -0.10568227715360846, -0.32138384415550253, -0.3142012176168439, -0.15831316931663567, -0.302252684596412, -0.2899842662796497, -0.33678565707507213, -0.3168368311000739, -0.18305799837543962, -0.258662531717942, -0.2919758045463, -0.40301152735030193, -0.41166970006641584, -0.36795278116648084, -0.44233797104840755, -0.462651643386867, -0.573195188029226, -0.41745094912537006, -0.569950581453431, -0.5059617917431738, -0.5408371477828987, -0.7541175571864733, -0.7153264719213783, -0.6621488075230839, -0.6152404714752963, -0.6972435167708924, -0.7460350445426288, -0.8363487771235054, -0.8310295506781933, -0.7650373979100293, -0.6585731338117213, -0.7539211958142081, -0.8839367480334986, -0.8275057078015761, -0.7433054075966461, -0.8333128187189939, -0.7616184213755158, -0.8190058851582919, -0.8643874677048721, -0.9733139761328338, -0.9168438938263178, -0.9288752144462078, -0.9081497282524614, -1.1436853605808714, -0.8872455717905804, -0.956927190449332, -0.9976918017999072, -0.7305984443289233, -0.9336275641215205, -1.134168093648433, -1.026452229501572, -1.158004063994177, -0.8913736314468508, -0.9808646605365814, -0.8911730955501748, -0.9656924279295886, -1.0957459806732306, -0.899453234641028, -0.9039640490881065, -0.9368868049088014, -1.0583011369436048, -0.9235482562119235, -1.077501468883353, -1.0541672967000808, -0.9148554968616321, -1.0602373970257957, -1.0151121861232022, -0.7347546515112594, -0.9872871030157352, -1.1393066717138747, -0.9237713681230698, -0.8685709553275665, -1.0227838555165367, -1.0155956726262818, -0.8966993027116886, -0.9266813243426096, -0.7422588546852297, -0.9518865374361402, -0.6804306553936411, -0.8114579282497711, -0.9727447811506069, -0.8685254769623852, -0.967878799454267, -0.9342087780453505, -0.8642107506848977, -0.974462165714261, -0.8074994610229147, -0.6412983095891576, -0.7164921895922983, -0.9767632956146689, -0.6340556079980595, -0.7623645545191021, -0.7549337007863234, -0.7935882252990123, -0.7123317205728191, -0.6118052620505885, -0.5802110129726267, -0.6586222136502566, -0.4970277178912689, -0.6951163097615055, -0.5582668428962461, -0.6273115544274848, -0.591892153227019, -0.34028086101653354, -0.4727624242632634, -0.4598678032070479, -0.4980407533649881, -0.30618051156217513, -0.38579408753123673, -0.44413087878388013, -0.32129147095021693, -0.34207900580519623, -0.259970941025856, -0.40145487080881803, -0.18447193975480897, -0.11039311903038247, -0.22017868479781516, 0.02616936819399643, -0.058780221076055496, 0.018253177658796443, -0.24518290538552315, -0.16609369313492073, 0.1315778398863532], \"mode\": \"lines+markers\"};\n"
      ],
      "text/plain": [
       "<IPython.core.display.Javascript object>"
      ]
     },
     "execution_count": 110,
     "metadata": {},
     "output_type": "execute_result"
    }
   ],
   "source": [
    "line = {\n",
    "    'x': list(x),\n",
    "    'y': list(y),\n",
    "    'type': 'scatter',\n",
    "    'mode': 'lines+markers',\n",
    "}\n",
    "\n",
    "j = json.dumps(line)\n",
    "\n",
    "Javascript(\"\"\"\n",
    "window.visObj={};\n",
    "\"\"\".format(j))"
   ]
  },
  {
   "cell_type": "markdown",
   "metadata": {},
   "source": [
    "I tried about a million things here and nothing worked. Fuck it. It's easy when not in a notebook, see [this project](http://code.elderresearch.com/summary/gardener%2Frest_app_poc.git) for an example"
   ]
  },
  {
   "cell_type": "markdown",
   "metadata": {},
   "source": [
    "## Highcharts\n",
    "\n",
    "[Highcharts](http://jsfiddle.net/gh/get/jquery/1.9.1/highslide-software/highcharts.com/tree/master/samples/highcharts/demo/line-basic/) can't be worse than that shit..."
   ]
  },
  {
   "cell_type": "code",
   "execution_count": 92,
   "metadata": {
    "collapsed": false
   },
   "outputs": [
    {
     "data": {
      "application/javascript": [
       "require.config({\n",
       "  paths: {\n",
       "      jquery: 'http://ajax.googleapis.com/ajax/libs/jquery/2.2.2/jquery.min',\n",
       "      d3: 'http://d3js.org/d3.v3.min',\n",
       "      hchart: [\n",
       "          'http://code.highcharts.com/highcharts',\n",
       "          'http://code.highcharts.com/highcharts-more',\n",
       "          'http://code.highcharts.com/modules/exporting'\n",
       "      ]\n",
       "  }\n",
       "});"
      ],
      "text/plain": [
       "<IPython.core.display.Javascript object>"
      ]
     },
     "metadata": {},
     "output_type": "display_data"
    }
   ],
   "source": [
    "%%javascript\n",
    "require.config({\n",
    "  paths: {\n",
    "      jquery: 'http://ajax.googleapis.com/ajax/libs/jquery/2.2.2/jquery.min',\n",
    "      d3: 'http://d3js.org/d3.v3.min',\n",
    "      hchart: [\n",
    "          'http://code.highcharts.com/highcharts',\n",
    "          'http://code.highcharts.com/highcharts-more',\n",
    "          'http://code.highcharts.com/modules/exporting'\n",
    "      ]\n",
    "  }\n",
    "});"
   ]
  },
  {
   "cell_type": "code",
   "execution_count": 111,
   "metadata": {
    "collapsed": false
   },
   "outputs": [
    {
     "data": {
      "application/javascript": [
       "require(['d3'], function(d3){\n",
       "    console.log('test');\n",
       "})"
      ],
      "text/plain": [
       "<IPython.core.display.Javascript object>"
      ]
     },
     "metadata": {},
     "output_type": "display_data"
    }
   ],
   "source": [
    "%%javascript\n",
    "require(['d3'], function(d3){\n",
    "    console.log('test');\n",
    "})"
   ]
  },
  {
   "cell_type": "code",
   "execution_count": 112,
   "metadata": {
    "collapsed": false
   },
   "outputs": [
    {
     "data": {
      "application/javascript": [
       "element.append('<div id=\"container\" style=\"width: 500px; height: 400px; margin: 0 auto\"></div>');"
      ],
      "text/plain": [
       "<IPython.core.display.Javascript object>"
      ]
     },
     "metadata": {},
     "output_type": "display_data"
    }
   ],
   "source": [
    "%%javascript\n",
    "element.append('<div id=\"container\" style=\"width: 500px; height: 400px; margin: 0 auto\"></div>');"
   ]
  },
  {
   "cell_type": "code",
   "execution_count": 113,
   "metadata": {
    "collapsed": false
   },
   "outputs": [
    {
     "data": {
      "application/javascript": [
       "require({\n",
       "  paths: {\n",
       "      jquery: 'http://ajax.googleapis.com/ajax/libs/jquery/2.2.2/jquery.min',\n",
       "      hchart: [\n",
       "          'http://code.highcharts.com/highcharts',\n",
       "          'http://code.highcharts.com/highcharts-more',\n",
       "          'http://code.highcharts.com/modules/exporting'\n",
       "      ]\n",
       "  }\n",
       "},\n",
       "['jquery', 'hchart'], function($, hc) {\n",
       "    \n",
       "    window.chart = new Highcharts.Chart({\n",
       "                \n",
       "        chart: {\n",
       "            renderTo: 'mychart',\n",
       "            polar: true,\n",
       "            type: 'line'\n",
       "        },\n",
       "        \n",
       "        title: {\n",
       "            text: 'Budget vs spending',\n",
       "            x: -80\n",
       "        },\n",
       "        \n",
       "        pane: {\n",
       "            size: '80%'\n",
       "        },\n",
       "        \n",
       "        xAxis: {\n",
       "            categories: ['Sales', 'Marketing', 'Development', 'Customer Support', \n",
       "                    'Information Technology', 'Administration'],\n",
       "            tickmarkPlacement: 'on',\n",
       "            lineWidth: 0\n",
       "        },\n",
       "            \n",
       "        yAxis: {\n",
       "            gridLineInterpolation: 'polygon',\n",
       "            lineWidth: 0,\n",
       "            min: 0\n",
       "        },\n",
       "        \n",
       "        tooltip: {\n",
       "            shared: true,\n",
       "            valuePrefix: '$'\n",
       "        },\n",
       "        \n",
       "        legend: {\n",
       "            align: 'right',\n",
       "            verticalAlign: 'top',\n",
       "            y: 100,\n",
       "            layout: 'vertical'\n",
       "        },\n",
       "        \n",
       "        series: [{\n",
       "            name: 'Allocated Budget',\n",
       "            data: [43000, 19000, 60000, 35000, 17000, 10000],\n",
       "            pointPlacement: 'on'\n",
       "        }, {\n",
       "            name: 'Actual Spending',\n",
       "            data: [50000, 39000, 42000, 31000, 26000, 14000],\n",
       "            pointPlacement: 'on'\n",
       "        }]\n",
       "    \n",
       "    });\n",
       "});"
      ],
      "text/plain": [
       "<IPython.core.display.Javascript object>"
      ]
     },
     "metadata": {},
     "output_type": "display_data"
    }
   ],
   "source": [
    "%%javascript\n",
    "require({\n",
    "  paths: {\n",
    "      jquery: 'http://ajax.googleapis.com/ajax/libs/jquery/2.2.2/jquery.min',\n",
    "      hchart: [\n",
    "          'http://code.highcharts.com/highcharts',\n",
    "          'http://code.highcharts.com/highcharts-more',\n",
    "          'http://code.highcharts.com/modules/exporting'\n",
    "      ]\n",
    "  }\n",
    "},\n",
    "['jquery', 'hchart'], function($, hc) {\n",
    "    \n",
    "    window.chart = new Highcharts.Chart({\n",
    "                \n",
    "        chart: {\n",
    "            renderTo: 'mychart',\n",
    "            polar: true,\n",
    "            type: 'line'\n",
    "        },\n",
    "        \n",
    "        title: {\n",
    "            text: 'Budget vs spending',\n",
    "            x: -80\n",
    "        },\n",
    "        \n",
    "        pane: {\n",
    "            size: '80%'\n",
    "        },\n",
    "        \n",
    "        xAxis: {\n",
    "            categories: ['Sales', 'Marketing', 'Development', 'Customer Support', \n",
    "                    'Information Technology', 'Administration'],\n",
    "            tickmarkPlacement: 'on',\n",
    "            lineWidth: 0\n",
    "        },\n",
    "            \n",
    "        yAxis: {\n",
    "            gridLineInterpolation: 'polygon',\n",
    "            lineWidth: 0,\n",
    "            min: 0\n",
    "        },\n",
    "        \n",
    "        tooltip: {\n",
    "            shared: true,\n",
    "            valuePrefix: '$'\n",
    "        },\n",
    "        \n",
    "        legend: {\n",
    "            align: 'right',\n",
    "            verticalAlign: 'top',\n",
    "            y: 100,\n",
    "            layout: 'vertical'\n",
    "        },\n",
    "        \n",
    "        series: [{\n",
    "            name: 'Allocated Budget',\n",
    "            data: [43000, 19000, 60000, 35000, 17000, 10000],\n",
    "            pointPlacement: 'on'\n",
    "        }, {\n",
    "            name: 'Actual Spending',\n",
    "            data: [50000, 39000, 42000, 31000, 26000, 14000],\n",
    "            pointPlacement: 'on'\n",
    "        }]\n",
    "    \n",
    "    });\n",
    "});"
   ]
  },
  {
   "cell_type": "code",
   "execution_count": 114,
   "metadata": {
    "collapsed": false
   },
   "outputs": [
    {
     "data": {
      "application/javascript": [
       "require(['jquery'], function(jq){\n",
       "    console.log(jq('head'));\n",
       "})"
      ],
      "text/plain": [
       "<IPython.core.display.Javascript object>"
      ]
     },
     "metadata": {},
     "output_type": "display_data"
    }
   ],
   "source": [
    "%%javascript\n",
    "require(['jquery'], function(jq){\n",
    "    console.log(jq('head'));\n",
    "})"
   ]
  },
  {
   "cell_type": "code",
   "execution_count": 115,
   "metadata": {
    "collapsed": false
   },
   "outputs": [
    {
     "data": {
      "application/javascript": [
       "require(['jquery', 'hc1', 'hc2'], function($, highcharts, highcharts2) {\n",
       "    element.append('<div id=\"mychart\"></div>');\n",
       "    $('#mychart').highcharts({\n",
       "        title: {\n",
       "            text: 'Monthly Average Temperature',\n",
       "            x: -20 //center\n",
       "        },\n",
       "        subtitle: {\n",
       "            text: 'Source: WorldClimate.com',\n",
       "            x: -20\n",
       "        },\n",
       "        xAxis: {\n",
       "            categories: ['Jan', 'Feb', 'Mar', 'Apr', 'May', 'Jun',\n",
       "                'Jul', 'Aug', 'Sep', 'Oct', 'Nov', 'Dec']\n",
       "        },\n",
       "        yAxis: {\n",
       "            title: {\n",
       "                text: 'Temperature (°C)'\n",
       "            },\n",
       "            plotLines: [{\n",
       "                value: 0,\n",
       "                width: 1,\n",
       "                color: '#808080'\n",
       "            }]\n",
       "        },\n",
       "        tooltip: {\n",
       "            valueSuffix: '°C'\n",
       "        },\n",
       "        legend: {\n",
       "            layout: 'vertical',\n",
       "            align: 'right',\n",
       "            verticalAlign: 'middle',\n",
       "            borderWidth: 0\n",
       "        },\n",
       "        series: [{\n",
       "            name: 'Tokyo',\n",
       "            data: [7.0, 6.9, 9.5, 14.5, 18.2, 21.5, 25.2, 26.5, 23.3, 18.3, 13.9, 9.6]\n",
       "        }, {\n",
       "            name: 'New York',\n",
       "            data: [-0.2, 0.8, 5.7, 11.3, 17.0, 22.0, 24.8, 24.1, 20.1, 14.1, 8.6, 2.5]\n",
       "        }, {\n",
       "            name: 'Berlin',\n",
       "            data: [-0.9, 0.6, 3.5, 8.4, 13.5, 17.0, 18.6, 17.9, 14.3, 9.0, 3.9, 1.0]\n",
       "        }, {\n",
       "            name: 'London',\n",
       "            data: [3.9, 4.2, 5.7, 8.5, 11.9, 15.2, 17.0, 16.6, 14.2, 10.3, 6.6, 4.8]\n",
       "        }]\n",
       "    });\n",
       "});"
      ],
      "text/plain": [
       "<IPython.core.display.Javascript object>"
      ]
     },
     "metadata": {},
     "output_type": "display_data"
    }
   ],
   "source": [
    "%%javascript\n",
    "require(['jquery', 'hc1', 'hc2'], function($, highcharts, highcharts2) {\n",
    "    element.append('<div id=\"mychart\"></div>');\n",
    "    $('#mychart').highcharts({\n",
    "        title: {\n",
    "            text: 'Monthly Average Temperature',\n",
    "            x: -20 //center\n",
    "        },\n",
    "        subtitle: {\n",
    "            text: 'Source: WorldClimate.com',\n",
    "            x: -20\n",
    "        },\n",
    "        xAxis: {\n",
    "            categories: ['Jan', 'Feb', 'Mar', 'Apr', 'May', 'Jun',\n",
    "                'Jul', 'Aug', 'Sep', 'Oct', 'Nov', 'Dec']\n",
    "        },\n",
    "        yAxis: {\n",
    "            title: {\n",
    "                text: 'Temperature (°C)'\n",
    "            },\n",
    "            plotLines: [{\n",
    "                value: 0,\n",
    "                width: 1,\n",
    "                color: '#808080'\n",
    "            }]\n",
    "        },\n",
    "        tooltip: {\n",
    "            valueSuffix: '°C'\n",
    "        },\n",
    "        legend: {\n",
    "            layout: 'vertical',\n",
    "            align: 'right',\n",
    "            verticalAlign: 'middle',\n",
    "            borderWidth: 0\n",
    "        },\n",
    "        series: [{\n",
    "            name: 'Tokyo',\n",
    "            data: [7.0, 6.9, 9.5, 14.5, 18.2, 21.5, 25.2, 26.5, 23.3, 18.3, 13.9, 9.6]\n",
    "        }, {\n",
    "            name: 'New York',\n",
    "            data: [-0.2, 0.8, 5.7, 11.3, 17.0, 22.0, 24.8, 24.1, 20.1, 14.1, 8.6, 2.5]\n",
    "        }, {\n",
    "            name: 'Berlin',\n",
    "            data: [-0.9, 0.6, 3.5, 8.4, 13.5, 17.0, 18.6, 17.9, 14.3, 9.0, 3.9, 1.0]\n",
    "        }, {\n",
    "            name: 'London',\n",
    "            data: [3.9, 4.2, 5.7, 8.5, 11.9, 15.2, 17.0, 16.6, 14.2, 10.3, 6.6, 4.8]\n",
    "        }]\n",
    "    });\n",
    "});"
   ]
  }
 ],
 "metadata": {
  "kernelspec": {
   "display_name": "Python 3",
   "language": "python",
   "name": "python3"
  },
  "language_info": {
   "codemirror_mode": {
    "name": "ipython",
    "version": 3
   },
   "file_extension": ".py",
   "mimetype": "text/x-python",
   "name": "python",
   "nbconvert_exporter": "python",
   "pygments_lexer": "ipython3",
   "version": "3.5.1"
  },
  "toc": {
   "toc_cell": false,
   "toc_number_sections": true,
   "toc_threshold": 6,
   "toc_window_display": false
  },
  "widgets": {
   "state": {},
   "version": "1.1.2"
  }
 },
 "nbformat": 4,
 "nbformat_minor": 0
}
