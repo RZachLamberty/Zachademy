{
 "cells": [
  {
   "cell_type": "markdown",
   "metadata": {},
   "source": [
    "# Times I Wanted the World to Burn"
   ]
  },
  {
   "cell_type": "markdown",
   "metadata": {},
   "source": [
    "## 2016"
   ]
  },
  {
   "cell_type": "markdown",
   "metadata": {},
   "source": [
    "### June"
   ]
  },
  {
   "cell_type": "markdown",
   "metadata": {
    "ExecuteTime": {
     "end_time": "2016-06-23T12:23:09.916309",
     "start_time": "2016-06-23T12:23:09.908824"
    }
   },
   "source": [
    "Check out this awesome <s>bug</s> feature:\n",
    "\n",
    "Suppose I have a collection of things (say, urls) in a file. I read them into `python` row by row, so they are loaded in order. I don't want to have duplicates, though, so I load them into a `set`.\n",
    "\n",
    "I want to use a subset of these chosen at random, but I want it to be much less than the whole collection. Seems like `random.sample` is my guy. I also want this to be reproducible, though, so I remember to set my seed:\n",
    "\n",
    "So I do:\n",
    "```python\n",
    "urls = load_urls()\n",
    "random.seed(1337)\n",
    "suburls = random.sample(urls, 5000)\n",
    "```\n",
    "\n",
    "Doing this several times, I realize: this isn't the same from `python` session to session. Why is that, I wonder? I can reproducibly do the following:"
   ]
  },
  {
   "cell_type": "code",
   "execution_count": 5,
   "metadata": {
    "ExecuteTime": {
     "end_time": "2016-06-23T12:30:20.558453",
     "start_time": "2016-06-23T12:30:20.555804"
    },
    "collapsed": true
   },
   "outputs": [],
   "source": [
    "import random"
   ]
  },
  {
   "cell_type": "code",
   "execution_count": 6,
   "metadata": {
    "ExecuteTime": {
     "end_time": "2016-06-23T12:30:20.921501",
     "start_time": "2016-06-23T12:30:20.915122"
    },
    "collapsed": false
   },
   "outputs": [
    {
     "data": {
      "text/plain": [
       "[80970, 69896, 93045, 47952, 74839, 76780, 95930, 21716, 43619, 50292]"
      ]
     },
     "execution_count": 6,
     "metadata": {},
     "output_type": "execute_result"
    }
   ],
   "source": [
    "random.seed(1337)\n",
    "random.sample(range(100000), 10)"
   ]
  },
  {
   "cell_type": "markdown",
   "metadata": {},
   "source": [
    "I'll get the same list of `int`s every time. So what gives?\n",
    "\n",
    "As I mentioned above, I didn't want duplication of urls. So I used a `set`. Which uses a hash for ordering instead of an index. Which is an implementation detail depending on your session (the start time of the session, I believe?), and will change every... single... time. Just turn that bad boy into a `list`, mkay?"
   ]
  }
 ],
 "metadata": {
  "kernelspec": {
   "display_name": "Python 3",
   "language": "python",
   "name": "python3"
  },
  "language_info": {
   "codemirror_mode": {
    "name": "ipython",
    "version": 3
   },
   "file_extension": ".py",
   "mimetype": "text/x-python",
   "name": "python",
   "nbconvert_exporter": "python",
   "pygments_lexer": "ipython3",
   "version": "3.5.1"
  },
  "toc": {
   "toc_cell": false,
   "toc_number_sections": true,
   "toc_threshold": 6,
   "toc_window_display": false
  },
  "widgets": {
   "state": {},
   "version": "1.1.2"
  }
 },
 "nbformat": 4,
 "nbformat_minor": 0
}
