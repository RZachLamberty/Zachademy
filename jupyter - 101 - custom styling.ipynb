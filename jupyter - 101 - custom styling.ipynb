{
 "cells": [
  {
   "cell_type": "markdown",
   "metadata": {},
   "source": [
    "# Custom Styling in Jupyter Notebooks\n",
    "\n",
    "There is a ton of info out there, and *for the most part* you are best off just googling for you answer.\n",
    "\n",
    "## *EXCEPT*\n",
    "\n",
    "There is one fatal flaw in most online discussion: it was written for `ipython`, not `jupyter`. The location of the custom `css` directory is *different* now.\n",
    "\n",
    "To see where it should be put for you,"
   ]
  },
  {
   "cell_type": "code",
   "execution_count": 7,
   "metadata": {
    "collapsed": false
   },
   "outputs": [
    {
     "data": {
      "text/plain": [
       "'/Users/zach.lamberty/.jupyter/custom/custom.css'"
      ]
     },
     "execution_count": 7,
     "metadata": {},
     "output_type": "execute_result"
    }
   ],
   "source": [
    "import jupyter_core\n",
    "import os\n",
    "\n",
    "customCssFile = os.path.join(jupyter_core.paths.jupyter_config_dir(), 'custom', 'custom.css')\n",
    "customCssFile"
   ]
  },
  {
   "cell_type": "markdown",
   "metadata": {},
   "source": [
    "### a few useful links\n",
    "\n",
    "+ [a ton of themes based on the awesome base16 theme set](https://github.com/nsonnad/base16-ipython-notebook)\n",
    "+ [a pretty serif-y theme that looks okay if that's what you're into](http://nbviewer.jupyter.org/gist/HHammond/7a78d35b34d85406aa60)\n",
    "+ [a bit of a discussion on how to use cell magic / on the fly `css` loading](http://nbviewer.jupyter.org/github/Carreau/posts/blob/master/Blog1.ipynb)\n",
    "+ [the page that pointed out the `css` file location change (and a cool example)](http://sherifsoliman.com/2016/01/11/theming-ipython-jupyter-notebook/)\n",
    "+ [a super `l33t` hack which only requires 3 lines of code](http://moderndata.plot.ly/custom-styling-for-ipython-notebooks-with-3-lines-of-code/)\n",
    "+ [a different importable theme](http://nbviewer.jupyter.org/gist/jackparmer/8d7e979bc4cec23db057)\n",
    "+ [the inspiration for my small set of tweaks](http://www.aaronschlegel.com/notebook/create-a-custom-ipython-notebook-theme-with-css/)"
   ]
  },
  {
   "cell_type": "markdown",
   "metadata": {
    "collapsed": true
   },
   "source": [
    "### The theme you're seeing right now:"
   ]
  },
  {
   "cell_type": "code",
   "execution_count": 10,
   "metadata": {
    "collapsed": false
   },
   "outputs": [
    {
     "name": "stdout",
     "output_type": "stream",
     "text": [
      "@import url(http://fonts.googleapis.com/css?family=Lato|Source+Code+Pro|Montserrat:400,700);\n",
      "\n",
      "h1, h2, h3, h4, h5, h6 {\n",
      "    font-family: 'Montserrat', sans-serif;\n",
      "    line-height: 20px;\n",
      "}\n",
      "\n",
      "h1 { font-size: 4.5em; border-bottom: 1px solid #666 }\n",
      "h2 { font-size: 4rem; }\n",
      "h3 { font-size: 3.5rem; }\n",
      "h4 { font-size: 3rem; }\n",
      "h5 { font-size: 2.5rem; }\n",
      "h6 { font-size: 2rem; }\n",
      "\n",
      "body { font-family: 'Lato', sans-serif; }\n",
      "\n",
      "p {\n",
      "    font-family: 'Lato', sans-serif;\n",
      "    font-size: 1.25em;\n",
      "    line-height: 30px;\n",
      "    font-weight: 400;\n",
      "    color: #8d8d8d;\n",
      "}\n",
      "\n",
      ".CodeMirror pre { \n",
      "    font-family: \"Source Code Pro\", monospace; \n",
      "    font-size: 1em;\n",
      "}\n",
      "\n"
     ]
    }
   ],
   "source": [
    "with open(customCssFile, 'r') as f:\n",
    "    print(f.read())"
   ]
  }
 ],
 "metadata": {
  "kernelspec": {
   "display_name": "Python 3",
   "language": "python",
   "name": "python3"
  },
  "language_info": {
   "codemirror_mode": {
    "name": "ipython",
    "version": 3
   },
   "file_extension": ".py",
   "mimetype": "text/x-python",
   "name": "python",
   "nbconvert_exporter": "python",
   "pygments_lexer": "ipython3",
   "version": "3.5.1"
  }
 },
 "nbformat": 4,
 "nbformat_minor": 0
}
