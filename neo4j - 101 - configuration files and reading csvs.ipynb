{
 "cells": [
  {
   "cell_type": "markdown",
   "metadata": {},
   "source": [
    "# configuration settings\n",
    "\n",
    "Suppose you want to [load a `csv`](http://neo4j.com/docs/stable/query-load-csv.html) file into `neo4j`. You don't know it, but you've already assumed an import directory. It's saved as the configuration parameter [`dbms.security.load_csv_file_url_root`](http://neo4j.com/docs/stable/configuration-settings.html#config_dbms.security.load_csv_file_url_root).\n",
    "\n",
    "You're going to need to change that value, probably. To do so, you have to figure out where that config file is. Personally, I didn't find this at all intuitive. The way I found it was\n",
    "\n",
    "```sh\n",
    "which neo4j\n",
    "ls -alh $(which neo4j)\n",
    "```\n",
    "\n",
    "Since I use `homebrew`, this was a symlink. In any case: **relative** to the actual installation point of your `neo4j` binary, your configuration file will be:\n",
    "\n",
    "```sh\n",
    "../libexec/conf/neo4j.conf\n",
    "```\n",
    "\n",
    "Edit that bad boy!"
   ]
  }
 ],
 "metadata": {
  "kernelspec": {
   "display_name": "Python 3",
   "language": "python",
   "name": "python3"
  },
  "language_info": {
   "codemirror_mode": {
    "name": "ipython",
    "version": 3
   },
   "file_extension": ".py",
   "mimetype": "text/x-python",
   "name": "python",
   "nbconvert_exporter": "python",
   "pygments_lexer": "ipython3",
   "version": "3.5.1"
  }
 },
 "nbformat": 4,
 "nbformat_minor": 0
}
