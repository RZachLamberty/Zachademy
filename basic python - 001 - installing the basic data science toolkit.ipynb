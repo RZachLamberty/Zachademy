{
 "cells": [
  {
   "cell_type": "markdown",
   "metadata": {},
   "source": [
    "# `python`"
   ]
  },
  {
   "cell_type": "markdown",
   "metadata": {},
   "source": [
    "I'll assume you know the basics about `python`:\n",
    "\n",
    "+ it's a scripting language (*i.e.* was originally meant to do small command-line tasks), but it became so popular it has wide support as a programming language\n",
    "+ it's interpreted\n",
    "+ it supports both functional and object oriented programming paradigms\n",
    "+ it's better than `R` at everything\n",
    "\n",
    "You should have `python`. If you don't already have it installed, well, I don't even know what to tell you. Whoever sold you that brick owes you. \n",
    "\n",
    "You should probably download `conda`, I guess. Go to that section below.\n",
    "\n",
    "To be sure you have `python` installed, go to any terminal and type\n",
    "\n",
    "```bash\n",
    "> python\n",
    "```\n",
    "\n",
    "and hopefully something happens. Just for fun, if it does:\n",
    "\n",
    "```python\n",
    "> import this\n",
    "```"
   ]
  },
  {
   "cell_type": "markdown",
   "metadata": {},
   "source": [
    "# libraries and packages"
   ]
  },
  {
   "cell_type": "markdown",
   "metadata": {},
   "source": [
    "## packages\n",
    "\n",
    "a given file of executible `python` code is probably best referred to as a \"script\", but a collection of scripts which expose some sort of interface to a user to do \"something\" are generally called a \"library\" or a \"package\". This is mostly the same as with `R` -- think `dplyr` and all the other stuff Hadley wrote.\n",
    "\n",
    "So what sorts of `python` packages should you use?\n",
    "\n",
    "first of all, the builtin packages are pretty great, and cover a wide range of the most necessary use cases for a programming language (e.g. file i/o and os utilities and tie-ins). The ones I use most often are:\n",
    "\n",
    "+ `argparse` - reading in and parsing command line arguments\n",
    "+ `collections` - sets of \"collection\" objects (e.g. ordered dictionaries, named tuples, default dictionaries)\n",
    "+ `csv` - for reading and writing delimited files\n",
    "+ `datetime` - the fundamental date object and utilities library\n",
    "+ `functools` - functional tools, including fancy stuff like partial function definitions and caching\n",
    "+ `itertools` - an awesome library of utilities for iterating through collections of items\n",
    "+ `json` - for parsing and constructing well formatted JSON\n",
    "+ `logging` - for logging messages to console, file, etc\n",
    "+ `os` - operating system interaction (I use this in almost every single program)\n",
    "+ `pickle` - a `python`-native serialization protocol, for saving `python` stuff\n",
    "+ `random` - a decent (if not special) randomization library\n",
    "+ `re` - regular expression parsing library\n",
    "+ `time` - a generic OS-level time interface\n",
    "\n",
    "there are also a ton of great open-source libraries for just about any purpose you might imagine. Again, the ones I use most often:\n",
    "\n",
    "+ `flask` - a `python` web framework (for standing up webpages)\n",
    "+ `ipython` - the best interactive shell, it just makes the normal python program look silly\n",
    "+ `jupyter` - the interactive extension of the above (`ipython`, this is what is used to make this bodacious document you see before you)\n",
    "+ `lxml` - a fast and flexible XML / HTML library\n",
    "+ `matplotlib` - a plotting library that is super useful but will make `R` users dream of their former glory\n",
    "+ `nltk` - Natural Language Tool Kit, a library for language processing and text analytics\n",
    "+ `numpy` - NUMerical PYthon, a lot of super duper array and linear algebra glue code to make C and FORTRAN routines available in `python`.\n",
    "+ `pandas` - PANel DAta, a dataframe interface for feature data. This is the main data science library in `python` and, again, I use it in almost every single program\n",
    "+ `plotly` - an amazing plotting library\n",
    "+ `psycopg2` - a `postgres` library\n",
    "+ `requests` - the main web GET and POST library\n",
    "+ `scipy` - SCIentific PYthon, and extension of `numpy` to include a more scientific utilities\n",
    "+ `scrapy` - a flexibile but easy web scraping framework\n",
    "+ `seaborn` - something you import whenever you use `matplotlib` to make your plots non-heinous (also has some useful functions that no one has discovered yet)\n",
    "+ `selenium` - a javascript engine library (for when `requests` isn't good enough)\n",
    "+ `sklearn` - the other half of the primary data science workflow, an all-purpose modeling library\n",
    "+ `sqlalchemy` - an ORM library for most sql databases. It's pretty flashy and when you finally need it, you'll know in your heart.\n",
    "+ `tqdm` - a fancy-pants progress bar library. You don't need it, but you want it.\n",
    "+ `yaml` - a library for parsing the world's greatest configuration format, Yet Another Markup Language (YAML)\n",
    "\n",
    "But don't just take my word for it, take [the aggregate word of thousands upon thousands of strangers](http://pypi-ranking.info/alltime)."
   ]
  },
  {
   "cell_type": "markdown",
   "metadata": {},
   "source": [
    "## installing stuff\n",
    "\n",
    "So, let's take a journey together.\n",
    "\n",
    "Unlike `R`, the folks who put `python` together thought that people should care about the versions of the packages they installed. They didn't really do anything to make this happen in a sane way, though, so there were like ten different ways to install packages. If you learned `python` in the early days, you probably heard it was hard to install packages. Well, it was. Maybe it still is, depending on your attitude. That's right, I'm blaming the victim.\n",
    "\n",
    "Really, though, I'm sorry. If you're coming to `python` from `R` this probably feels silly. Why not just have an `install` function and install whatever you want? \n",
    "\n",
    "Why? because you shouldn't, that's just crazy, what if I have it in a script somewhere and I share it with a friend and suddenly they're downloading code they don't want and it's overwriting the most sacred 10-release-old version that's not available for download anywhere anymore, and now they have to go rooting around in their `/tmp` directory to find the tarball they downloaded to install this back in January (thanks for keeping my internet history forever, google!) and which takes, like, no joke guy, like an hour and a half to compile, and while they're getting a cup of coffee to kill time they remember -- crap -- they also had a brand new version of one of the dependencies installed since then and that's probably gone now too, so the the code that should be running in production but is actually running on their laptop (which they can't ever shut off, so now the screen has burn-in) on whatever version that was (7.3? it was the one where the commit message said \"fixed typo\" but had 2000+ lines of diff, so we all know what that's gonna be like) and that is *DEFINITELY* broken now, which would explain why their phone won't stop buzzing and YEP, like clockwork, there's the SME at the entrance to the kitchen with panic in their eyes all because I wanted them to check out this dope plot and there's a cute way that Hadley likes to write functions inside out instead of outside in.\n",
    "\n",
    "Basically, the versions of all your packages matter, so you should care about that stuff. The `python` community is pretty stickly about that and has gone to great lengths (and, like, 15 different methods) to try and solve that problem. And today, that means that everyone is doing one of the following:\n",
    "\n",
    "+ using `pip` (\"Pip Installs Python\", and yes, recursive acronyms are annoying)\n",
    "+ using `pip`, but in a virtual environment\n",
    "+ using `conda` (virtual environments on steroids or amphetamines, depending on whether you're a data scientist or sysad (resp))\n",
    "\n",
    "I advocate using `conda` for many reasons, and I *definitely* think it's easier for le n00bs."
   ]
  },
  {
   "cell_type": "markdown",
   "metadata": {},
   "source": [
    "# virtual environments\n",
    "\n",
    "To put is succinctly: if one of my programs only works for version 1.2, and another only works for version 2.1, and the SEC sysad just installed library 1.0 and *that* took two years. This  will probably be a problem. \n",
    "\n",
    "It'd be nice if that problem was solved. And omg gang it is.\n",
    "\n",
    "\"virtual environments\" are ways of isolating out the contents of libraries you're installing. This is something you've actually probably done in `R`, actually -- if you've ever tried installing a package but didn't have admin rights, it prompts you to see if there's some other place you'd like to install things (in your home directory). that is a system-level isolation of the files you want to install. When the interpreter is told to load a package, it looks first for your local copy to see if you have anything spicy, and then the global copy, and then it cries.\n",
    "\n",
    "So, generalize that to many environments (not just global and user), even one for each process. The interpreter is told to check in this random place in My Documents folder, and then in some other place, and then the home directory, and then the user directory, etc.\n",
    "\n",
    "On a very basic level, all we're doing here is re-installing packages into a special sub-directory somewhere on the machine, and then telling `python` (through environment variables like the `PATH` variable) where to look to find them. We're tricking `python` into doing the right thing. and `python` is cool about it; once it realizes it's been tricked it's not even mad or anything, it's strong in our relationship and knows that it was all a bit of a goof and what's more, we all actually really had a great time and made some good memories.\n",
    "\n",
    "Often times finished `python` projects will ship with a `requirements.txt` file, which lists each `python` package which should be installed and the exact version that it was tested against, and it is expected that it will be executed by a system with the same packages and versions. The \"virtual environment\" is some sort of isolated set of packages that will meet that requirement.\n",
    "\n",
    "The original way of creating a virtual environment was the python utility `virtualenv`, which is awesome and worth checking out. That being said, however, it's not what I'll recommend. Instead, I'll recommend..."
   ]
  },
  {
   "cell_type": "markdown",
   "metadata": {},
   "source": [
    "# conda / miniconda\n",
    "\n",
    "Go get it!!!! GET IT NOW!!!!!! it's so dReAmY :D.\n",
    "\n",
    "+ [`conda`](https://www.continuum.io/downloads): a big installation, which will take a few minutes, and pre-installs several of the \"must haves\" (many of the above, and maybe more)\n",
    "+ [`miniconda`](https://conda.io/miniconda.html): a bare-bones implementation of the above for the *discerning* gentleprogrammer\n",
    "\n",
    "Download that stuff. Then follow the instructions on the page, which will probably say:\n",
    "\n",
    "```bash\n",
    "> bash Miniconda_some_other_stuff_.sh\n",
    "```\n",
    "\n",
    "And then, once everything is done, one time kick it with a tasy groove:\n",
    "\n",
    "```bash\n",
    "> conda update conda\n",
    "```\n",
    "\n",
    "The snake is updating its own tail, what is this madness?"
   ]
  },
  {
   "cell_type": "markdown",
   "metadata": {},
   "source": [
    "## create an environment\n",
    "\n",
    "create a new isolated environment (so you can install WHATEVER you want and your mom and dad can't tell you what to do)\n",
    "\n",
    "```bash\n",
    "> conda create -n scrapesville python=3\n",
    "```\n",
    "\n",
    "This will `create` a new environment named (`-n`) `scrapesville`.\n",
    "\n",
    "did you see how I said `python=3` above? That's right, I can install any `python` version I want (provided it exists, which is a reasonable provision even in `python` land)."
   ]
  },
  {
   "cell_type": "markdown",
   "metadata": {},
   "source": [
    "## using an environment\n",
    "\n",
    "as the little dialog will state after you create the environemnt, you have to \"activate\" that environment if you want to use it. You have to do this any time you want to use a virtual environment.\n",
    "\n",
    "So let's do that\n",
    "\n",
    "```bash\n",
    "# mac or linux:\n",
    "> source activate scrapesville\n",
    "\n",
    "# windows\n",
    "> activate scrapesville\n",
    "```\n",
    "\n",
    "This should have made our terminal prompt 10 times l33t3r. Now let's install some stuff\n",
    "\n",
    "```bash\n",
    "> conda install jupyter requests lxml cssselect pandas\n",
    "```"
   ]
  },
  {
   "cell_type": "markdown",
   "metadata": {
    "collapsed": true
   },
   "source": [
    "# `jupyter` notebooks\n",
    "\n",
    "There is no \"proper\" way for organizing notebooks. I tend to put the ones directly related to projects with the \n",
    "projects, and others in a global folder called `notebooks`. That's not a rule of thumb, obviously.\n",
    "\n",
    "`github` is great for "
   ]
  },
  {
   "cell_type": "code",
   "execution_count": null,
   "metadata": {},
   "outputs": [],
   "source": []
  }
 ],
 "metadata": {
  "kernelspec": {
   "display_name": "Python 3",
   "language": "python",
   "name": "python3"
  },
  "language_info": {
   "codemirror_mode": {
    "name": "ipython",
    "version": 3
   },
   "file_extension": ".py",
   "mimetype": "text/x-python",
   "name": "python",
   "nbconvert_exporter": "python",
   "pygments_lexer": "ipython3",
   "version": "3.6.5"
  },
  "toc": {
   "toc_cell": false,
   "toc_number_sections": true,
   "toc_threshold": 6,
   "toc_window_display": false
  }
 },
 "nbformat": 4,
 "nbformat_minor": 2
}
