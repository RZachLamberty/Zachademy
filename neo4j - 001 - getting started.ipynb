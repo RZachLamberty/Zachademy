{
 "cells": [
  {
   "cell_type": "markdown",
   "metadata": {},
   "source": [
    "# Getting started with Neo4j\n",
    "\n",
    "## Installation\n",
    "\n",
    "In most cases, go [here](http://neo4j.com/download/) and follow download instructions,\n",
    "\n",
    "*That being said*, for mac installations, **if** you prefer having a command line client, you are better off brew installing (`brew install neo4j`). And by \"better off\" I mean you don't have an option.\n",
    "\n",
    "\n",
    "### environment variables\n",
    "\n",
    "You may want to set your environment variables (e.g. to use the `cypher` cell magic in jupyter notebooks) in your `.bashrc` or `.bash_profile` files.\n",
    "\n",
    "```sh\n",
    "export NEO4J_URI=\"http://<my_user_name>:<my_password>@localhost:7474/db/data\"\n",
    "```\n",
    "\n",
    "**warning**: security risk: you don't have to (and in production shouldn't without good reason) include the username and password string in this variable. Figure out some other way, umk?\n",
    "\n",
    "\n",
    "### command line interface\n",
    "\n",
    "By default (on MAC OSX, at least) the install of `neo4j` offerred through their website doesn't provide you with command line access to the app (which is, yeah, I'll say it, real stupid).\n",
    "\n",
    "Brew installs do not suffer this same problem, but of course lag behind the cutting edge releases of `neo4j` you could access via direct download. Fortunately, it's usually not more than a day or two."
   ]
  }
 ],
 "metadata": {
  "kernelspec": {
   "display_name": "Python 3",
   "language": "python",
   "name": "python3"
  },
  "language_info": {
   "codemirror_mode": {
    "name": "ipython",
    "version": 3
   },
   "file_extension": ".py",
   "mimetype": "text/x-python",
   "name": "python",
   "nbconvert_exporter": "python",
   "pygments_lexer": "ipython3",
   "version": "3.5.1"
  }
 },
 "nbformat": 4,
 "nbformat_minor": 0
}
