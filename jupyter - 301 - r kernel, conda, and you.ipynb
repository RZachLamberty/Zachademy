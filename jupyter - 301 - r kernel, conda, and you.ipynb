{
 "cells": [
  {
   "cell_type": "markdown",
   "metadata": {},
   "source": [
    "# The R Kernel"
   ]
  },
  {
   "cell_type": "markdown",
   "metadata": {},
   "source": [
    "The folks over at [`irkernel`](http://irkernel.github.io/faq/) have taken the liberty to bring `R` into our big beautiful world, and we shouldn't forget that. I installed based off of that `FAQ` and only had wrinkles due to the fact that I was using `conda` to vc both my `R` and sub-package versions. "
   ]
  },
  {
   "cell_type": "markdown",
   "metadata": {},
   "source": [
    "## Setting up `R` in `conda`"
   ]
  },
  {
   "cell_type": "markdown",
   "metadata": {},
   "source": [
    "There is okay scattered documentation around the webzz, but it all comes down to this: `continuum`, makers of `conda`, have created a channel specifically for `R`. Often, you can find the things you want on that channel.\n",
    "\n",
    "To get a basic environment with `R` installed:\n",
    "\n",
    "```bash\n",
    "conda create -n myEnvName -c r r\n",
    "```\n",
    "\n",
    "You can try a version:\n",
    "\n",
    "```bash\n",
    "conda create -n myEnvName -c r r=3.3.1\n",
    "```\n",
    "\n",
    "but from my experience only the windows architecture is supported quickly (*i.e.* within a week). If you're on windows, bully for you; otherwise you may need to wait it out / use the OS-specific distros if you need something bleeding edge"
   ]
  },
  {
   "cell_type": "markdown",
   "metadata": {},
   "source": [
    "## Getting `R` packages to install, generally"
   ]
  },
  {
   "cell_type": "markdown",
   "metadata": {},
   "source": [
    "Note that your usual method of accessing `R` (probably shiny, right? right.) won't use this `R` executible unless you get all up in it. You probably want to install packages the normal way (`install.packages`) from the command line. That is ***not*** the preferred default. You should at least try to download the package, if it is available, via the conda install method.\n",
    "\n",
    "Check for the package on the conda channel [here](https://anaconda.org/r/packages). Not everything will be there, of course, but some things will. Take [devtools](https://anaconda.org/r/r-devtools), For example:\n",
    "\n",
    "```sh\n",
    "conda install -c r r-devtools\n",
    "```\n",
    "\n",
    "For any super common package, I suggest you just *try* to download it via conda first, using the formula\n",
    "\n",
    "```sh\n",
    "conda install -c r r-NORMAL_PACKAGE_NAME\n",
    "```\n",
    "\n",
    "Now, suppose you *don't* have a conda-built package available: you can still do the install the \"normal\" way, using `install.packages` from within an `R` session. I've found that the default way of specifying the download server (the window that would pop up and ask from which url you want to download packages) is pretty unreliable for me; if you find yourself in the same boat remember that you can specify the `CRAN` mirror by hand:\n",
    "\n",
    "```R\n",
    "install.packages('devtools', repos=\"http://cran.us.r-project.org\")\n",
    "```"
   ]
  },
  {
   "cell_type": "markdown",
   "metadata": {},
   "source": [
    "## Getting `IRkernel` to install"
   ]
  },
  {
   "cell_type": "markdown",
   "metadata": {},
   "source": [
    "You might think that the best way to install `IRkernel` is to follow the information directly from the developers [here](http://irkernel.github.io/installation/). If you were installing onto your machine, and not into a `conda` environment, this would be right. *However*, there is a pre-packaged `conda` library ([thanks, `continuum` developers](https://www.continuum.io/blog/developer/jupyter-and-conda-r)) for you to use. \n",
    "\n",
    "***Don't do this without reading the update below!\n",
    "```sh\n",
    "#conda install -c r r-essentials\n",
    "#jupyter notebook\n",
    "```\n",
    "\n",
    "You don't have to do any of the registering of `R` versions from within an `R` session, devtools install, any of that. Just the one `conda` install and launch your notebook.\n",
    "\n",
    "So just use that. Don't be like me and waste half a day trying to install a ton of libraries like a damn idiot.\n",
    "\n",
    "#### Update\n",
    "I got into it a bit with the maintainers of this package. As of the current day, even the \"simple\" way doesn't work exactly as it should. The future version is available for installation, however, on the devloper's channel:\n",
    "\n",
    "```sh\n",
    "conda create -y -n rkernel-fix -c rdonnellyr r-essentials jupyter python=3.5\n",
    "```"
   ]
  },
  {
   "cell_type": "markdown",
   "metadata": {},
   "source": [
    "### but if you *do* be a idiot..."
   ]
  },
  {
   "cell_type": "markdown",
   "metadata": {},
   "source": [
    "While I was running around *not* doing things the easy way, I had the following issues:\n",
    "\n",
    "This section is only to address the issues I had installing on my Mac (OS X v 10.11.5). The only major problems I had installing `IRkernel` were around the installation of their chosen ZeroMQ library `pdbZMQ`, so I thought it might be good to talk about that directly.\n",
    "\n",
    "First of all, just as a general heads up: there was a major change in the way the developers handled ZeroMQ over the lifetime of this project. Be aware that *old* tutorials may discuss installing `rzmq` -- *make sure your version is also old before doing this*! It is significantly more likely that you will be installing the current version of `IRkernel`, in which case you should be using the `R` library `pbdZMQ`. What follows will assume the developers are still using `pbdZMQ` and that you are as well.\n",
    "\n",
    "Through whatever system resources you have (`apt-get`, `homebrew`, *etc.*), install `libzmq`, preferably at the version the IRPython folks are expecting (for me, it was 4), with sodium. Using `homebrew` on my mac,\n",
    "\n",
    "```sh\n",
    "brew install zeromq405 --with-libsodium\n",
    "```\n",
    "\n",
    "After that, `pbdZMQ` was installable from the command line in `R`.\n",
    "\n",
    "Honestly, I figured out how to do it the other way long before I figured out how to finish this install in `conda`. Just don't do it."
   ]
  },
  {
   "cell_type": "markdown",
   "metadata": {
    "collapsed": true
   },
   "source": [
    "### update on installing in macland"
   ]
  },
  {
   "cell_type": "markdown",
   "metadata": {},
   "source": [
    "If you have ever in your life seriously uttered the phrase \"it just works\" in reference to macs, please just die.\n",
    "\n",
    "The folks developing the `conda` distribution haven't successfully fixed the ZeroMQ dynamic library binding in the `r-irkernel` module. I had to personally download zeromq with brew\n",
    "\n",
    "```sh\n",
    "brew install zeromq --with-libsodium\n",
    "```\n",
    "\n",
    "and then symlinking the current expected version (5) within the expected (by conda) library directory. Final command to make things not terrible:\n",
    "\n",
    "```\n",
    "ln -s /usr/local/lib/libzmq.5.dylib /Users/zach.lamberty/anaconda2/envs/rkernel-fix/lib/libzmq.5.dylib\n",
    "```\n",
    "\n",
    "In the above, of course, you need to swap in the path to your conda environment."
   ]
  },
  {
   "cell_type": "code",
   "execution_count": null,
   "metadata": {
    "collapsed": true
   },
   "outputs": [],
   "source": []
  }
 ],
 "metadata": {
  "kernelspec": {
   "display_name": "Python 3",
   "language": "python",
   "name": "python3"
  },
  "language_info": {
   "codemirror_mode": {
    "name": "ipython",
    "version": 3
   },
   "file_extension": ".py",
   "mimetype": "text/x-python",
   "name": "python",
   "nbconvert_exporter": "python",
   "pygments_lexer": "ipython3",
   "version": "3.5.1"
  },
  "toc": {
   "toc_cell": false,
   "toc_number_sections": true,
   "toc_threshold": 6,
   "toc_window_display": false
  },
  "widgets": {
   "state": {},
   "version": "1.1.2"
  }
 },
 "nbformat": 4,
 "nbformat_minor": 0
}
